{
 "cells": [
  {
   "cell_type": "markdown",
   "metadata": {},
   "source": [
    "# Automated ML"
   ]
  },
  {
   "cell_type": "code",
   "execution_count": 1,
   "metadata": {
    "collapsed": false,
    "gather": {
     "logged": 1598423888013
    },
    "jupyter": {
     "outputs_hidden": false,
     "source_hidden": false
    },
    "nteract": {
     "transient": {
      "deleting": false
     }
    }
   },
   "outputs": [],
   "source": [
    "import pickle\n",
    "import requests\n",
    "\n",
    "from azureml.core import Environment\n",
    "from azureml.core.compute import AmlCompute, ComputeTarget\n",
    "from azureml.core.compute_target import ComputeTargetException\n",
    "from azureml.core.experiment import Experiment\n",
    "from azureml.core.dataset import Dataset\n",
    "from azureml.core.workspace import Workspace\n",
    "from azureml.core.webservice.aci import AciWebservice\n",
    "from azureml.core.model import InferenceConfig, Model\n",
    "\n",
    "from azureml.train.automl import AutoMLConfig"
   ]
  },
  {
   "cell_type": "markdown",
   "metadata": {
    "tags": []
   },
   "source": [
    "## Dataset\n",
    "\n",
    "### Overview\n",
    "In this experiment we will be using **Kaggle - Credit Card Fraud Dataset**, the dataset can be downloaded from [here](https://www.kaggle.com/datasets/mlg-ulb/creditcardfraud). This dataset consist of **~99% Non-Fraudulent** transactions while the rest **~0.1% Fraudulent** transaction, hence the data is imbalance. There are no null values, and all the columns except for the **transaction** and **amount** are unknown, maybe for privacy reasons. As additional note, all the data in this datasets has been scaled."
   ]
  },
  {
   "cell_type": "code",
   "execution_count": 2,
   "metadata": {
    "collapsed": false,
    "gather": {
     "logged": 1598423890461
    },
    "jupyter": {
     "outputs_hidden": false,
     "source_hidden": false
    },
    "nteract": {
     "transient": {
      "deleting": false
     }
    }
   },
   "outputs": [],
   "source": [
    "ws = Workspace.from_config()\n",
    "\n",
    "# choose a name for experiment\n",
    "experiment_name = \"creditcard-experiment\"\n",
    "project_folder = './creditcard-pipeline-project'\n",
    "\n",
    "experiment = Experiment(ws, experiment_name)"
   ]
  },
  {
   "cell_type": "code",
   "execution_count": 25,
   "metadata": {},
   "outputs": [
    {
     "name": "stdout",
     "output_type": "stream",
     "text": [
      "Found existing dataset, use it.\n"
     ]
    }
   ],
   "source": [
    "key = \"creditcard-dataset\"\n",
    "description = \"Credit Card - Dealing from Imbalance Datasets from https://www.kaggle.com/datasets/mlg-ulb/creditcardfraud\"\n",
    "\n",
    "found = False\n",
    "if key in ws.datasets.keys():\n",
    "    print(\"Found existing dataset, use it.\")\n",
    "    found = True\n",
    "    dataset = ws.datasets[key] # already registered\n",
    "    \n",
    "if not found:\n",
    "    example_data = \"https://media.githubusercontent.com/media/satriawadhipurusa/ml-dataset-collection/master/Fraud-Detection/creditcard-fraud.csv\" # uploaded to Git for download\n",
    "    dataset = Dataset.Tabular.from_delimited_files(example_data)\n",
    "    dataset = dataset.register(workspace=ws, name=key, description=description)"
   ]
  },
  {
   "cell_type": "markdown",
   "metadata": {
    "tags": []
   },
   "source": [
    "## AutoML Configuration\n",
    "\n",
    "The AutoML usually consist of the followings configurations:\n",
    "\n",
    "* Compute Target: For the compute target we will use `STANDARD_D2_v3` (2CPU, 8GB memory, 50GB storage) in low priority which has been created earlier, and max nodes of 4, this will enable more parallel trials in training Automated ML \n",
    "* Task: Since we're predicting Fraud (0/1), this should be binary **Classification** task\n",
    "* Early Stopping \n",
    "  * Timeout: We set the timeout to be 30 mins instead of 60 mins, so we can iterate faster\n",
    "  * Primary Metric: We are interested to see **AUC Weighted** with **0.98** exit score, since this is an imbalance dataset. An accuracy of 0.99 will be misleading since we can achieve the same accuracy with just predicting 0s, but low precision/recall. "
   ]
  },
  {
   "cell_type": "markdown",
   "metadata": {},
   "source": [
    "### Compute Cluster"
   ]
  },
  {
   "cell_type": "code",
   "execution_count": 3,
   "metadata": {},
   "outputs": [
    {
     "name": "stdout",
     "output_type": "stream",
     "text": [
      "Found existing cluster, use it.\n",
      "Succeeded\n",
      "AmlCompute wait for completion finished\n",
      "\n",
      "Minimum number of nodes requested have been provisioned\n"
     ]
    }
   ],
   "source": [
    "amlcompute_cluster_name = \"automl-cls\"\n",
    "\n",
    "try:\n",
    "    compute_target = ComputeTarget(workspace=ws, name=amlcompute_cluster_name)\n",
    "    print(\"Found existing cluster, use it.\")\n",
    "except ComputeTargetException:\n",
    "    compute_config = AmlCompute.provisioning_configuration(vm_size=\"STANDARD_D2_v3\", max_nodes=4)\n",
    "    compute_target = ComputeTarget.create(ws, amlcompute_cluster_name, compute_config)\n",
    "\n",
    "compute_target.wait_for_completion(show_output=True, min_node_count=0, timeout_in_minutes=10)"
   ]
  },
  {
   "cell_type": "code",
   "execution_count": 4,
   "metadata": {
    "collapsed": false,
    "gather": {
     "logged": 1598429217746
    },
    "jupyter": {
     "outputs_hidden": false,
     "source_hidden": false
    },
    "nteract": {
     "transient": {
      "deleting": false
     }
    }
   },
   "outputs": [],
   "source": [
    "# TODO: Put your automl settings here\n",
    "automl_settings = {\n",
    "    \"experiment_timeout_minutes\": 30,\n",
    "    \"max_concurrent_iterations\": 4,\n",
    "    \"primary_metric\": \"AUC_weighted\",\n",
    "    \"experiment_exit_score\" : 0.98\n",
    "}\n",
    "\n",
    "# TODO: Put your automl config here\n",
    "automl_config = AutoMLConfig(compute_target=compute_target,\n",
    "                             task=\"classification\",\n",
    "                             training_data=dataset,\n",
    "                             label_column_name=\"Class\",\n",
    "                             path=project_folder,\n",
    "                             enable_early_stopping=True,\n",
    "                             featurization=\"auto\",\n",
    "                             debug_log=\"automl_errors.log\",\n",
    "                             **automl_settings)"
   ]
  },
  {
   "cell_type": "code",
   "execution_count": 5,
   "metadata": {
    "collapsed": false,
    "gather": {
     "logged": 1598431107951
    },
    "jupyter": {
     "outputs_hidden": false,
     "source_hidden": false
    },
    "nteract": {
     "transient": {
      "deleting": false
     }
    }
   },
   "outputs": [
    {
     "name": "stdout",
     "output_type": "stream",
     "text": [
      "Submitting remote run.\n"
     ]
    },
    {
     "data": {
      "text/html": [
       "<table style=\"width:100%\"><tr><th>Experiment</th><th>Id</th><th>Type</th><th>Status</th><th>Details Page</th><th>Docs Page</th></tr><tr><td>creditcard-experiment</td><td>AutoML_491025b3-1f9f-436c-8c4d-9b2ce65b7b36</td><td>automl</td><td>NotStarted</td><td><a href=\"https://ml.azure.com/runs/AutoML_491025b3-1f9f-436c-8c4d-9b2ce65b7b36?wsid=/subscriptions/5e4d75b9-5b13-49fb-8306-ae971a3c14b1/resourcegroups/mlops-resource/workspaces/mlops-demo&amp;tid=f336fb5b-9257-44b3-a041-3897edf080c9\" target=\"_blank\" rel=\"noopener\">Link to Azure Machine Learning studio</a></td><td><a href=\"https://docs.microsoft.com/en-us/python/api/overview/azure/ml/intro?view=azure-ml-py\" target=\"_blank\" rel=\"noopener\">Link to Documentation</a></td></tr></table>"
      ],
      "text/plain": [
       "<IPython.core.display.HTML object>"
      ]
     },
     "metadata": {},
     "output_type": "display_data"
    }
   ],
   "source": [
    "# TODO: Submit your experiment\n",
    "remote_run = experiment.submit(automl_config)"
   ]
  },
  {
   "cell_type": "markdown",
   "metadata": {},
   "source": [
    "## Run Details\n",
    "\n",
    "OPTIONAL: Write about the different models trained and their performance. Why do you think some models did better than others?\n",
    "\n",
    "There are couple of **models**, **preprocessor**, and **hyperparameters** trained in this Automated ML experiment, some of the models are:\n",
    "\n",
    "* LightGBM\n",
    "* RandomForest\n",
    "* XGBoost\n",
    "* ExtremeRandomTrees\n",
    "* LogisticRegression\n",
    "* VotingEnsemble\n",
    "* StackEnsemble\n",
    "\n",
    "These **worst** model is combination of **PCA** and **LighGBM** with AUC Weighted of **0.72**, while the best one is a combination of **StandardScalerWrapper** with **LightGBM**. \n",
    "\n",
    "This discrepancy due to the nature of the data and the nature of the modeling done on those data. \n",
    "* Since this datasets already very condensed in information, a PCA to reduce the information may backfire and reduce the overall metric\n",
    "* Standard scaler to scale the various numerical values, can help the learning algorithm to classifify fraud / non-fraud better. \n",
    "\n",
    "The other combinations also stemmed from preprocessor that are not suited, algorithm or hyperparameters that may overfit."
   ]
  },
  {
   "cell_type": "code",
   "execution_count": 6,
   "metadata": {
    "collapsed": false,
    "gather": {
     "logged": 1598431121770
    },
    "jupyter": {
     "outputs_hidden": false,
     "source_hidden": false
    },
    "nteract": {
     "transient": {
      "deleting": false
     }
    }
   },
   "outputs": [
    {
     "data": {
      "application/vnd.jupyter.widget-view+json": {
       "model_id": "9504638975414d34af55d82d396c45f0",
       "version_major": 2,
       "version_minor": 0
      },
      "text/plain": [
       "_AutoMLWidget(widget_settings={'childWidgetDisplay': 'popup', 'send_telemetry': False, 'log_level': 'INFO', 's…"
      ]
     },
     "metadata": {},
     "output_type": "display_data"
    },
    {
     "data": {
      "application/aml.mini.widget.v1": "{\"status\": \"Completed\", \"workbench_run_details_uri\": \"https://ml.azure.com/runs/AutoML_491025b3-1f9f-436c-8c4d-9b2ce65b7b36?wsid=/subscriptions/5e4d75b9-5b13-49fb-8306-ae971a3c14b1/resourcegroups/mlops-resource/workspaces/mlops-demo&tid=f336fb5b-9257-44b3-a041-3897edf080c9\", \"run_id\": \"AutoML_491025b3-1f9f-436c-8c4d-9b2ce65b7b36\", \"run_properties\": {\"run_id\": \"AutoML_491025b3-1f9f-436c-8c4d-9b2ce65b7b36\", \"created_utc\": \"2022-04-26T22:32:25.493409Z\", \"properties\": {\"num_iterations\": \"1000\", \"training_type\": \"TrainFull\", \"acquisition_function\": \"EI\", \"primary_metric\": \"AUC_weighted\", \"train_split\": \"0\", \"acquisition_parameter\": \"0\", \"num_cross_validation\": null, \"target\": \"automl-cls\", \"AMLSettingsJsonString\": \"{\\\"path\\\":null,\\\"name\\\":\\\"creditcard-experiment\\\",\\\"subscription_id\\\":\\\"5e4d75b9-5b13-49fb-8306-ae971a3c14b1\\\",\\\"resource_group\\\":\\\"mlops-resource\\\",\\\"workspace_name\\\":\\\"mlops-demo\\\",\\\"region\\\":\\\"eastasia\\\",\\\"compute_target\\\":\\\"automl-cls\\\",\\\"spark_service\\\":null,\\\"azure_service\\\":\\\"remote\\\",\\\"many_models\\\":false,\\\"pipeline_fetch_max_batch_size\\\":1,\\\"enable_batch_run\\\":true,\\\"enable_run_restructure\\\":false,\\\"start_auxiliary_runs_before_parent_complete\\\":false,\\\"enable_code_generation\\\":false,\\\"iterations\\\":1000,\\\"primary_metric\\\":\\\"AUC_weighted\\\",\\\"task_type\\\":\\\"classification\\\",\\\"positive_label\\\":null,\\\"data_script\\\":null,\\\"test_size\\\":0.0,\\\"test_include_predictions_only\\\":false,\\\"validation_size\\\":0.0,\\\"n_cross_validations\\\":null,\\\"y_min\\\":null,\\\"y_max\\\":null,\\\"num_classes\\\":null,\\\"featurization\\\":\\\"auto\\\",\\\"_ignore_package_version_incompatibilities\\\":false,\\\"is_timeseries\\\":false,\\\"max_cores_per_iteration\\\":1,\\\"max_concurrent_iterations\\\":4,\\\"iteration_timeout_minutes\\\":null,\\\"mem_in_mb\\\":null,\\\"enforce_time_on_windows\\\":false,\\\"experiment_timeout_minutes\\\":30,\\\"experiment_exit_score\\\":0.98,\\\"partition_column_names\\\":null,\\\"whitelist_models\\\":null,\\\"blacklist_algos\\\":[\\\"TensorFlowLinearClassifier\\\",\\\"TensorFlowDNN\\\"],\\\"supported_models\\\":[\\\"MultinomialNaiveBayes\\\",\\\"DecisionTree\\\",\\\"BernoulliNaiveBayes\\\",\\\"LinearSVM\\\",\\\"LightGBM\\\",\\\"XGBoostClassifier\\\",\\\"GradientBoosting\\\",\\\"SGD\\\",\\\"AveragedPerceptronClassifier\\\",\\\"TensorFlowDNN\\\",\\\"TensorFlowLinearClassifier\\\",\\\"KNN\\\",\\\"TabnetClassifier\\\",\\\"LogisticRegression\\\",\\\"SVM\\\",\\\"ExtremeRandomTrees\\\",\\\"RandomForest\\\"],\\\"private_models\\\":[],\\\"auto_blacklist\\\":true,\\\"blacklist_samples_reached\\\":false,\\\"exclude_nan_labels\\\":true,\\\"verbosity\\\":20,\\\"_debug_log\\\":\\\"azureml_automl.log\\\",\\\"show_warnings\\\":false,\\\"model_explainability\\\":true,\\\"service_url\\\":null,\\\"sdk_url\\\":null,\\\"sdk_packages\\\":null,\\\"enable_onnx_compatible_models\\\":false,\\\"enable_split_onnx_featurizer_estimator_models\\\":false,\\\"vm_type\\\":\\\"STANDARD_D2_V3\\\",\\\"telemetry_verbosity\\\":20,\\\"send_telemetry\\\":true,\\\"enable_dnn\\\":false,\\\"scenario\\\":\\\"SDK-1.13.0\\\",\\\"environment_label\\\":null,\\\"save_mlflow\\\":false,\\\"enable_categorical_indicators\\\":false,\\\"force_text_dnn\\\":false,\\\"enable_feature_sweeping\\\":true,\\\"enable_early_stopping\\\":true,\\\"early_stopping_n_iters\\\":10,\\\"arguments\\\":null,\\\"dataset_id\\\":\\\"67570178-bf15-46d2-b97e-884a07cb1970\\\",\\\"hyperdrive_config\\\":null,\\\"validation_dataset_id\\\":null,\\\"run_source\\\":null,\\\"metrics\\\":null,\\\"enable_metric_confidence\\\":false,\\\"enable_ensembling\\\":true,\\\"enable_stack_ensembling\\\":true,\\\"ensemble_iterations\\\":15,\\\"enable_tf\\\":false,\\\"enable_subsampling\\\":null,\\\"subsample_seed\\\":null,\\\"enable_nimbusml\\\":false,\\\"enable_streaming\\\":false,\\\"force_streaming\\\":false,\\\"track_child_runs\\\":true,\\\"allowed_private_models\\\":[],\\\"label_column_name\\\":\\\"Class\\\",\\\"weight_column_name\\\":null,\\\"cv_split_column_names\\\":null,\\\"enable_local_managed\\\":false,\\\"_local_managed_run_id\\\":null,\\\"cost_mode\\\":1,\\\"lag_length\\\":0,\\\"metric_operation\\\":\\\"maximize\\\",\\\"preprocess\\\":true}\", \"DataPrepJsonString\": \"{\\\\\\\"training_data\\\\\\\": {\\\\\\\"datasetId\\\\\\\": \\\\\\\"67570178-bf15-46d2-b97e-884a07cb1970\\\\\\\"}, \\\\\\\"datasets\\\\\\\": 0}\", \"EnableSubsampling\": null, \"runTemplate\": \"AutoML\", \"azureml.runsource\": \"automl\", \"display_task_type\": \"classification\", \"dependencies_versions\": \"{\\\"azureml-widgets\\\": \\\"1.40.0\\\", \\\"azureml-training-tabular\\\": \\\"1.40.0\\\", \\\"azureml-train\\\": \\\"1.40.0\\\", \\\"azureml-train-restclients-hyperdrive\\\": \\\"1.40.0\\\", \\\"azureml-train-core\\\": \\\"1.40.0\\\", \\\"azureml-train-automl\\\": \\\"1.40.0\\\", \\\"azureml-train-automl-runtime\\\": \\\"1.40.0.post1\\\", \\\"azureml-train-automl-client\\\": \\\"1.40.0\\\", \\\"azureml-tensorboard\\\": \\\"1.40.0\\\", \\\"azureml-telemetry\\\": \\\"1.40.0\\\", \\\"azureml-sdk\\\": \\\"1.40.0\\\", \\\"azureml-samples\\\": \\\"0+unknown\\\", \\\"azureml-responsibleai\\\": \\\"1.40.0\\\", \\\"azureml-pipeline\\\": \\\"1.40.0\\\", \\\"azureml-pipeline-steps\\\": \\\"1.40.0\\\", \\\"azureml-pipeline-core\\\": \\\"1.40.0\\\", \\\"azureml-opendatasets\\\": \\\"1.40.0\\\", \\\"azureml-mlflow\\\": \\\"1.40.0\\\", \\\"azureml-interpret\\\": \\\"1.40.0\\\", \\\"azureml-inference-server-http\\\": \\\"0.4.11\\\", \\\"azureml-explain-model\\\": \\\"1.40.0\\\", \\\"azureml-defaults\\\": \\\"1.40.0\\\", \\\"azureml-dataset-runtime\\\": \\\"1.40.0\\\", \\\"azureml-dataprep\\\": \\\"3.0.0\\\", \\\"azureml-dataprep-rslex\\\": \\\"2.4.0\\\", \\\"azureml-dataprep-native\\\": \\\"38.0.0\\\", \\\"azureml-datadrift\\\": \\\"1.40.0\\\", \\\"azureml-core\\\": \\\"1.40.0\\\", \\\"azureml-contrib-services\\\": \\\"1.40.0\\\", \\\"azureml-contrib-server\\\": \\\"1.40.0\\\", \\\"azureml-contrib-reinforcementlearning\\\": \\\"1.40.0\\\", \\\"azureml-contrib-pipeline-steps\\\": \\\"1.40.0\\\", \\\"azureml-contrib-notebook\\\": \\\"1.40.0\\\", \\\"azureml-contrib-fairness\\\": \\\"1.40.0\\\", \\\"azureml-contrib-dataset\\\": \\\"1.40.0\\\", \\\"azureml-contrib-automl-pipeline-steps\\\": \\\"1.40.0\\\", \\\"azureml-cli-common\\\": \\\"1.40.0\\\", \\\"azureml-automl-runtime\\\": \\\"1.40.0\\\", \\\"azureml-automl-dnn-nlp\\\": \\\"1.40.0\\\", \\\"azureml-automl-core\\\": \\\"1.40.0\\\", \\\"azureml-accel-models\\\": \\\"1.40.0\\\"}\", \"_aml_system_scenario_identification\": \"Remote.Parent\", \"ClientType\": \"SDK\", \"environment_cpu_name\": \"AzureML-AutoML\", \"environment_cpu_label\": \"prod\", \"environment_gpu_name\": \"AzureML-AutoML-GPU\", \"environment_gpu_label\": \"prod\", \"root_attribution\": \"automl\", \"attribution\": \"AutoML\", \"Orchestrator\": \"AutoML\", \"CancelUri\": \"https://eastasia.api.azureml.ms/jasmine/v1.0/subscriptions/5e4d75b9-5b13-49fb-8306-ae971a3c14b1/resourceGroups/mlops-resource/providers/Microsoft.MachineLearningServices/workspaces/mlops-demo/experimentids/1371f6af-26e4-4439-a0d3-001800590461/cancel/AutoML_491025b3-1f9f-436c-8c4d-9b2ce65b7b36\", \"ClientSdkVersion\": \"1.40.0.post1\", \"snapshotId\": \"00000000-0000-0000-0000-000000000000\", \"SetupRunId\": \"AutoML_491025b3-1f9f-436c-8c4d-9b2ce65b7b36_setup\", \"SetupRunContainerId\": \"dcid.AutoML_491025b3-1f9f-436c-8c4d-9b2ce65b7b36_setup\", \"FeaturizationRunJsonPath\": \"featurizer_container.json\", \"FeaturizationRunId\": \"AutoML_491025b3-1f9f-436c-8c4d-9b2ce65b7b36_featurize\", \"ProblemInfoJsonString\": \"{\\\"dataset_num_categorical\\\": 0, \\\"is_sparse\\\": false, \\\"subsampling\\\": false, \\\"has_extra_col\\\": true, \\\"dataset_classes\\\": 2, \\\"dataset_features\\\": 30, \\\"dataset_samples\\\": 256326, \\\"single_frequency_class_detected\\\": false}\", \"ModelExplainRunId\": \"AutoML_491025b3-1f9f-436c-8c4d-9b2ce65b7b36_ModelExplain\"}, \"tags\": {\"model_explain_run\": \"best_run\", \"_aml_system_automl_run_workspace_id\": \"7f200afa-d5cc-4328-81e7-0ba53dc4defb\", \"_aml_system_azureml.automlComponent\": \"AutoML\", \"pipeline_id\": \"\", \"score\": \"\", \"predicted_cost\": \"\", \"fit_time\": \"\", \"training_percent\": \"\", \"iteration\": \"\", \"run_preprocessor\": \"\", \"run_algorithm\": \"\", \"dynamic_allowlisting_iterations\": \"<24>;<30>;<35>;<40>;\", \"_aml_system_azureml.automl_early_exit_message\": \"Experiment timeout reached, hence experiment stopped. Current experiment timeout: 0 hour(s) 30 minute(s)\", \"automl_best_child_run_id\": \"AutoML_491025b3-1f9f-436c-8c4d-9b2ce65b7b36_30\", \"model_explain_best_run_child_id\": \"AutoML_491025b3-1f9f-436c-8c4d-9b2ce65b7b36_30\"}, \"end_time_utc\": \"2022-04-26T23:13:00.638221Z\", \"status\": \"Completed\", \"log_files\": {}, \"log_groups\": [], \"run_duration\": \"0:40:35\", \"run_number\": \"1651012345\", \"run_queued_details\": {\"status\": \"Completed\", \"details\": null}}, \"child_runs\": [{\"run_id\": \"AutoML_491025b3-1f9f-436c-8c4d-9b2ce65b7b36_setup\", \"run_number\": 1651012365, \"metric\": null, \"status\": \"Completed\", \"run_type\": \"azureml.scriptrun\", \"training_percent\": null, \"start_time\": \"2022-04-26T22:36:52.39252Z\", \"end_time\": \"2022-04-26T22:37:47.791327Z\", \"created_time\": \"2022-04-26T22:32:45.436118Z\", \"created_time_dt\": \"2022-04-26T22:32:45.436118Z\", \"duration\": \"0:05:02\", \"iteration\": null, \"goal\": null, \"run_name\": \"Completed\", \"run_properties\": null}, {\"run_id\": \"AutoML_491025b3-1f9f-436c-8c4d-9b2ce65b7b36_featurize\", \"run_number\": 1651012668, \"metric\": null, \"status\": \"Completed\", \"run_type\": \"automl.featurization\", \"training_percent\": null, \"start_time\": \"2022-04-26T22:37:48.309695Z\", \"end_time\": \"2022-04-26T22:38:52.55493Z\", \"created_time\": \"2022-04-26T22:37:48.078294Z\", \"created_time_dt\": \"2022-04-26T22:37:48.078294Z\", \"duration\": \"0:01:04\", \"iteration\": null, \"goal\": null, \"run_name\": \"Completed\", \"run_properties\": null}, {\"run_id\": \"AutoML_491025b3-1f9f-436c-8c4d-9b2ce65b7b36_0\", \"run_number\": 1651012734, \"metric\": null, \"status\": \"Completed\", \"run_type\": null, \"training_percent\": \"100\", \"start_time\": \"2022-04-26T22:39:13.109697Z\", \"end_time\": \"2022-04-26T22:39:31.722355Z\", \"created_time\": \"2022-04-26T22:38:54.267236Z\", \"created_time_dt\": \"2022-04-26T22:38:54.267236Z\", \"duration\": \"0:00:37\", \"iteration\": \"0\", \"goal\": \"AUC_weighted_max\", \"run_name\": \"MaxAbsScaler, LightGBM\", \"run_properties\": \"copy=True\", \"primary_metric\": 0.80958494, \"best_metric\": 0.80958494}, {\"run_id\": \"AutoML_491025b3-1f9f-436c-8c4d-9b2ce65b7b36_2\", \"run_number\": 1651012735, \"metric\": null, \"status\": \"Completed\", \"run_type\": null, \"training_percent\": \"100\", \"start_time\": \"2022-04-26T22:42:02.912895Z\", \"end_time\": \"2022-04-26T22:42:18.565885Z\", \"created_time\": \"2022-04-26T22:38:55.02421Z\", \"created_time_dt\": \"2022-04-26T22:38:55.02421Z\", \"duration\": \"0:03:23\", \"iteration\": \"2\", \"goal\": \"AUC_weighted_max\", \"run_name\": \"MaxAbsScaler, ExtremeRandomTrees\", \"run_properties\": \"copy=True\", \"primary_metric\": 0.93992469, \"best_metric\": 0.93992469}, {\"run_id\": \"AutoML_491025b3-1f9f-436c-8c4d-9b2ce65b7b36_worker_0\", \"run_number\": 1651012736, \"metric\": null, \"status\": \"Completed\", \"run_type\": \"azureml.scriptrun\", \"training_percent\": null, \"start_time\": \"2022-04-26T22:40:59.990131Z\", \"end_time\": \"2022-04-26T22:43:03.112595Z\", \"created_time\": \"2022-04-26T22:38:56.107052Z\", \"created_time_dt\": \"2022-04-26T22:38:56.107052Z\", \"duration\": \"0:04:07\", \"iteration\": null, \"goal\": null, \"run_name\": \"Completed\", \"run_properties\": null}, {\"run_id\": \"AutoML_491025b3-1f9f-436c-8c4d-9b2ce65b7b36_7\", \"run_number\": 1651012737, \"metric\": null, \"status\": \"Completed\", \"run_type\": null, \"training_percent\": \"100\", \"start_time\": \"2022-04-26T22:44:23.347993Z\", \"end_time\": \"2022-04-26T22:47:06.60511Z\", \"created_time\": \"2022-04-26T22:38:57.413449Z\", \"created_time_dt\": \"2022-04-26T22:38:57.413449Z\", \"duration\": \"0:08:09\", \"iteration\": \"7\", \"goal\": \"AUC_weighted_max\", \"run_name\": \"MinMaxScaler, RandomForest\", \"run_properties\": \"copy=True, feature_range=(0, 1\", \"primary_metric\": 0.96123188, \"best_metric\": 0.96123188}, {\"run_id\": \"AutoML_491025b3-1f9f-436c-8c4d-9b2ce65b7b36_worker_1\", \"run_number\": 1651012738, \"metric\": null, \"status\": \"Completed\", \"run_type\": \"azureml.scriptrun\", \"training_percent\": null, \"start_time\": \"2022-04-26T22:41:01.992562Z\", \"end_time\": \"2022-04-26T22:47:56.295477Z\", \"created_time\": \"2022-04-26T22:38:58.427763Z\", \"created_time_dt\": \"2022-04-26T22:38:58.427763Z\", \"duration\": \"0:08:57\", \"iteration\": null, \"goal\": null, \"run_name\": \"Completed\", \"run_properties\": null}, {\"run_id\": \"AutoML_491025b3-1f9f-436c-8c4d-9b2ce65b7b36_12\", \"run_number\": 1651012739, \"metric\": null, \"status\": \"Completed\", \"run_type\": null, \"training_percent\": \"100\", \"start_time\": \"2022-04-26T22:43:46.699793Z\", \"end_time\": \"2022-04-26T22:44:24.25544Z\", \"created_time\": \"2022-04-26T22:38:59.299827Z\", \"created_time_dt\": \"2022-04-26T22:38:59.299827Z\", \"duration\": \"0:05:24\", \"iteration\": \"12\", \"goal\": \"AUC_weighted_max\", \"run_name\": \"MinMaxScaler, ExtremeRandomTrees\", \"run_properties\": \"copy=True, feature_range=(0, 1\", \"primary_metric\": 0.95562811, \"best_metric\": 0.96123188}, {\"run_id\": \"AutoML_491025b3-1f9f-436c-8c4d-9b2ce65b7b36_worker_2\", \"run_number\": 1651012740, \"metric\": null, \"status\": \"Completed\", \"run_type\": \"azureml.scriptrun\", \"training_percent\": null, \"start_time\": \"2022-04-26T22:41:03.392595Z\", \"end_time\": \"2022-04-26T22:45:09.531927Z\", \"created_time\": \"2022-04-26T22:39:00.499857Z\", \"created_time_dt\": \"2022-04-26T22:39:00.499857Z\", \"duration\": \"0:06:09\", \"iteration\": null, \"goal\": null, \"run_name\": \"Completed\", \"run_properties\": null}, {\"run_id\": \"AutoML_491025b3-1f9f-436c-8c4d-9b2ce65b7b36_17\", \"run_number\": 1651012741, \"metric\": null, \"status\": \"Completed\", \"run_type\": null, \"training_percent\": \"100\", \"start_time\": \"2022-04-26T22:45:52.098296Z\", \"end_time\": \"2022-04-26T22:49:40.016548Z\", \"created_time\": \"2022-04-26T22:39:01.302892Z\", \"created_time_dt\": \"2022-04-26T22:39:01.302892Z\", \"duration\": \"0:10:38\", \"iteration\": \"17\", \"goal\": \"AUC_weighted_max\", \"run_name\": \"StandardScalerWrapper, RandomForest\", \"run_properties\": \"copy=True, with_mean=False, with_std=False\", \"primary_metric\": 0.95785505, \"best_metric\": 0.96123188}, {\"run_id\": \"AutoML_491025b3-1f9f-436c-8c4d-9b2ce65b7b36_worker_3\", \"run_number\": 1651012742, \"metric\": null, \"status\": \"Completed\", \"run_type\": \"azureml.scriptrun\", \"training_percent\": null, \"start_time\": \"2022-04-26T22:43:55.037288Z\", \"end_time\": \"2022-04-26T22:50:24.464379Z\", \"created_time\": \"2022-04-26T22:39:02.255534Z\", \"created_time_dt\": \"2022-04-26T22:39:02.255534Z\", \"duration\": \"0:11:22\", \"iteration\": null, \"goal\": null, \"run_name\": \"Completed\", \"run_properties\": null}, {\"run_id\": \"AutoML_491025b3-1f9f-436c-8c4d-9b2ce65b7b36_20\", \"run_number\": 1651013274, \"metric\": null, \"status\": \"Completed\", \"run_type\": \"azureml.scriptrun\", \"training_percent\": \"100\", \"start_time\": \"2022-04-26T22:50:00.928314Z\", \"end_time\": \"2022-04-26T22:50:04.694986Z\", \"created_time\": \"2022-04-26T22:47:54.332257Z\", \"created_time_dt\": \"2022-04-26T22:47:54.332257Z\", \"duration\": \"0:02:10\", \"iteration\": \"20\", \"goal\": \"AUC_weighted_max\", \"run_name\": \"StandardScalerWrapper, ExtremeRandomTrees\", \"run_properties\": \"copy=True, with_mean=False, with_std=True\", \"primary_metric\": 0.96433417, \"best_metric\": 0.96433417}, {\"run_id\": \"AutoML_491025b3-1f9f-436c-8c4d-9b2ce65b7b36_22\", \"run_number\": 1651013401, \"metric\": null, \"status\": \"Completed\", \"run_type\": \"azureml.scriptrun\", \"training_percent\": \"100\", \"start_time\": \"2022-04-26T22:50:59.575168Z\", \"end_time\": \"2022-04-26T22:51:03.131019Z\", \"created_time\": \"2022-04-26T22:50:01.610738Z\", \"created_time_dt\": \"2022-04-26T22:50:01.610738Z\", \"duration\": \"0:01:01\", \"iteration\": \"22\", \"goal\": \"AUC_weighted_max\", \"run_name\": \"MaxAbsScaler, LogisticRegression\", \"run_properties\": \"copy=True\", \"primary_metric\": 0.94681115, \"best_metric\": 0.96433417}, {\"run_id\": \"AutoML_491025b3-1f9f-436c-8c4d-9b2ce65b7b36_23\", \"run_number\": 1651013407, \"metric\": null, \"status\": \"Completed\", \"run_type\": \"azureml.scriptrun\", \"training_percent\": \"100\", \"start_time\": \"2022-04-26T22:52:41.412117Z\", \"end_time\": \"2022-04-26T22:52:44.986766Z\", \"created_time\": \"2022-04-26T22:50:07.680133Z\", \"created_time_dt\": \"2022-04-26T22:50:07.680133Z\", \"duration\": \"0:02:37\", \"iteration\": \"23\", \"goal\": \"AUC_weighted_max\", \"run_name\": \"StandardScalerWrapper, XGBoostClassifier\", \"run_properties\": \"copy=True, with_mean=False, with_std=False\", \"primary_metric\": 0.93860181, \"best_metric\": 0.96433417}, {\"run_id\": \"AutoML_491025b3-1f9f-436c-8c4d-9b2ce65b7b36_24\", \"run_number\": 1651013460, \"metric\": null, \"status\": \"Completed\", \"run_type\": \"azureml.scriptrun\", \"training_percent\": \"100\", \"start_time\": \"2022-04-26T22:52:31.118111Z\", \"end_time\": \"2022-04-26T22:52:34.777133Z\", \"created_time\": \"2022-04-26T22:51:00.390764Z\", \"created_time_dt\": \"2022-04-26T22:51:00.390764Z\", \"duration\": \"0:01:34\", \"iteration\": \"24\", \"goal\": \"AUC_weighted_max\", \"run_name\": \"TruncatedSVDWrapper, LightGBM\", \"run_properties\": \"n_components=0.7026315789473684, random_state=None\", \"primary_metric\": 0.95812852, \"best_metric\": 0.96433417}, {\"run_id\": \"AutoML_491025b3-1f9f-436c-8c4d-9b2ce65b7b36_26\", \"run_number\": 1651013465, \"metric\": null, \"status\": \"Canceled\", \"run_type\": \"azureml.scriptrun\", \"training_percent\": \"100\", \"start_time\": \"2022-04-26T22:54:03.023921Z\", \"end_time\": \"2022-04-26T23:09:22.931859Z\", \"created_time\": \"2022-04-26T22:51:05.212702Z\", \"created_time_dt\": \"2022-04-26T22:51:05.212702Z\", \"duration\": \"0:18:17\", \"iteration\": \"26\", \"goal\": null, \"run_name\": \"StandardScalerWrapper, GradientBoosting\", \"run_properties\": null}, {\"run_id\": \"AutoML_491025b3-1f9f-436c-8c4d-9b2ce65b7b36_27\", \"run_number\": 1651013556, \"metric\": null, \"status\": \"Completed\", \"run_type\": \"azureml.scriptrun\", \"training_percent\": \"100\", \"start_time\": \"2022-04-26T22:55:58.320642Z\", \"end_time\": \"2022-04-26T22:56:04.407655Z\", \"created_time\": \"2022-04-26T22:52:36.91847Z\", \"created_time_dt\": \"2022-04-26T22:52:36.91847Z\", \"duration\": \"0:03:27\", \"iteration\": \"27\", \"goal\": \"AUC_weighted_max\", \"run_name\": \"StandardScalerWrapper, XGBoostClassifier\", \"run_properties\": \"copy=True, with_mean=False, with_std=False\", \"primary_metric\": 0.96337774, \"best_metric\": 0.96433417}, {\"run_id\": \"AutoML_491025b3-1f9f-436c-8c4d-9b2ce65b7b36_28\", \"run_number\": 1651013566, \"metric\": null, \"status\": \"Completed\", \"run_type\": \"azureml.scriptrun\", \"training_percent\": \"100\", \"start_time\": \"2022-04-26T22:56:03.558671Z\", \"end_time\": \"2022-04-26T23:00:23.958411Z\", \"created_time\": \"2022-04-26T22:52:46.912921Z\", \"created_time_dt\": \"2022-04-26T22:52:46.912921Z\", \"duration\": \"0:07:37\", \"iteration\": \"28\", \"goal\": \"AUC_weighted_max\", \"run_name\": \"StandardScalerWrapper, XGBoostClassifier\", \"run_properties\": \"copy=True, with_mean=False, with_std=False\", \"primary_metric\": 0.96151745, \"best_metric\": 0.96433417}, {\"run_id\": \"AutoML_491025b3-1f9f-436c-8c4d-9b2ce65b7b36_29\", \"run_number\": 1651013707, \"metric\": null, \"status\": \"Completed\", \"run_type\": \"azureml.scriptrun\", \"training_percent\": \"100\", \"start_time\": \"2022-04-26T22:57:00.13483Z\", \"end_time\": \"2022-04-26T22:57:03.737568Z\", \"created_time\": \"2022-04-26T22:55:07.747975Z\", \"created_time_dt\": \"2022-04-26T22:55:07.747975Z\", \"duration\": \"0:01:55\", \"iteration\": \"29\", \"goal\": \"AUC_weighted_max\", \"run_name\": \"MinMaxScaler, LogisticRegression\", \"run_properties\": \"copy=True, feature_range=(0, 1\", \"primary_metric\": 0.96208282, \"best_metric\": 0.96433417}, {\"run_id\": \"AutoML_491025b3-1f9f-436c-8c4d-9b2ce65b7b36_30\", \"run_number\": 1651013767, \"metric\": null, \"status\": \"Completed\", \"run_type\": \"azureml.scriptrun\", \"training_percent\": \"100\", \"start_time\": \"2022-04-26T22:58:34.217024Z\", \"end_time\": \"2022-04-26T22:58:37.89054Z\", \"created_time\": \"2022-04-26T22:56:07.937651Z\", \"created_time_dt\": \"2022-04-26T22:56:07.937651Z\", \"duration\": \"0:02:29\", \"iteration\": \"30\", \"goal\": \"AUC_weighted_max\", \"run_name\": \"StandardScalerWrapper, LightGBM\", \"run_properties\": \"copy=True, with_mean=False, with_std=True\", \"primary_metric\": 0.97391915, \"best_metric\": 0.97391915}, {\"run_id\": \"AutoML_491025b3-1f9f-436c-8c4d-9b2ce65b7b36_31\", \"run_number\": 1651013825, \"metric\": null, \"status\": \"Completed\", \"run_type\": \"azureml.scriptrun\", \"training_percent\": \"100\", \"start_time\": \"2022-04-26T22:59:18.755705Z\", \"end_time\": \"2022-04-26T22:59:22.400088Z\", \"created_time\": \"2022-04-26T22:57:05.725761Z\", \"created_time_dt\": \"2022-04-26T22:57:05.725761Z\", \"duration\": \"0:02:16\", \"iteration\": \"31\", \"goal\": \"AUC_weighted_max\", \"run_name\": \"StandardScalerWrapper, LightGBM\", \"run_properties\": \"copy=True, with_mean=True, with_std=True\", \"primary_metric\": 0.96470418, \"best_metric\": 0.97391915}, {\"run_id\": \"AutoML_491025b3-1f9f-436c-8c4d-9b2ce65b7b36_32\", \"run_number\": 1651013919, \"metric\": null, \"status\": \"Completed\", \"run_type\": \"azureml.scriptrun\", \"training_percent\": \"100\", \"start_time\": \"2022-04-26T23:00:42.865174Z\", \"end_time\": \"2022-04-26T23:00:46.442597Z\", \"created_time\": \"2022-04-26T22:58:39.929563Z\", \"created_time_dt\": \"2022-04-26T22:58:39.929563Z\", \"duration\": \"0:02:06\", \"iteration\": \"32\", \"goal\": \"AUC_weighted_max\", \"run_name\": \"StandardScalerWrapper, LogisticRegression\", \"run_properties\": \"copy=True, with_mean=True, with_std=True\", \"primary_metric\": 0.94963134, \"best_metric\": 0.97391915}, {\"run_id\": \"AutoML_491025b3-1f9f-436c-8c4d-9b2ce65b7b36_33\", \"run_number\": 1651013964, \"metric\": null, \"status\": \"Completed\", \"run_type\": \"azureml.scriptrun\", \"training_percent\": \"100\", \"start_time\": \"2022-04-26T23:01:24.594216Z\", \"end_time\": \"2022-04-26T23:01:28.145137Z\", \"created_time\": \"2022-04-26T22:59:24.474204Z\", \"created_time_dt\": \"2022-04-26T22:59:24.474204Z\", \"duration\": \"0:02:03\", \"iteration\": \"33\", \"goal\": \"AUC_weighted_max\", \"run_name\": \"MinMaxScaler, LightGBM\", \"run_properties\": \"copy=True, feature_range=(0, 1\", \"primary_metric\": 0.95270779, \"best_metric\": 0.97391915}, {\"run_id\": \"AutoML_491025b3-1f9f-436c-8c4d-9b2ce65b7b36_34\", \"run_number\": 1651014025, \"metric\": null, \"status\": \"Completed\", \"run_type\": \"azureml.scriptrun\", \"training_percent\": \"100\", \"start_time\": \"2022-04-26T23:03:03.615824Z\", \"end_time\": \"2022-04-26T23:03:07.216622Z\", \"created_time\": \"2022-04-26T23:00:25.9382Z\", \"created_time_dt\": \"2022-04-26T23:00:25.9382Z\", \"duration\": \"0:02:41\", \"iteration\": \"34\", \"goal\": \"AUC_weighted_max\", \"run_name\": \"StandardScalerWrapper, GradientBoosting\", \"run_properties\": \"copy=True, with_mean=True, with_std=True\", \"primary_metric\": 0.95463828, \"best_metric\": 0.97391915}, {\"run_id\": \"AutoML_491025b3-1f9f-436c-8c4d-9b2ce65b7b36_35\", \"run_number\": 1651014049, \"metric\": null, \"status\": \"Completed\", \"run_type\": \"azureml.scriptrun\", \"training_percent\": \"100\", \"start_time\": \"2022-04-26T23:02:34.45217Z\", \"end_time\": \"2022-04-26T23:02:38.02581Z\", \"created_time\": \"2022-04-26T23:00:49.76854Z\", \"created_time_dt\": \"2022-04-26T23:00:49.76854Z\", \"duration\": \"0:01:48\", \"iteration\": \"35\", \"goal\": \"AUC_weighted_max\", \"run_name\": \"StandardScalerWrapper, LightGBM\", \"run_properties\": \"copy=True, with_mean=False, with_std=True\", \"primary_metric\": 0.94974188, \"best_metric\": 0.97391915}, {\"run_id\": \"AutoML_491025b3-1f9f-436c-8c4d-9b2ce65b7b36_36\", \"run_number\": 1651014090, \"metric\": null, \"status\": \"Completed\", \"run_type\": \"azureml.scriptrun\", \"training_percent\": \"100\", \"start_time\": \"2022-04-26T23:03:17.853618Z\", \"end_time\": \"2022-04-26T23:03:21.436021Z\", \"created_time\": \"2022-04-26T23:01:30.135296Z\", \"created_time_dt\": \"2022-04-26T23:01:30.135296Z\", \"duration\": \"0:01:51\", \"iteration\": \"36\", \"goal\": \"AUC_weighted_max\", \"run_name\": \"MaxAbsScaler, LightGBM\", \"run_properties\": \"copy=True\", \"primary_metric\": 0.96299728, \"best_metric\": 0.97391915}, {\"run_id\": \"AutoML_491025b3-1f9f-436c-8c4d-9b2ce65b7b36_37\", \"run_number\": 1651014160, \"metric\": null, \"status\": \"Completed\", \"run_type\": \"azureml.scriptrun\", \"training_percent\": \"100\", \"start_time\": \"2022-04-26T23:04:41.701687Z\", \"end_time\": \"2022-04-26T23:04:45.252365Z\", \"created_time\": \"2022-04-26T23:02:40.01839Z\", \"created_time_dt\": \"2022-04-26T23:02:40.01839Z\", \"duration\": \"0:02:05\", \"iteration\": \"37\", \"goal\": \"AUC_weighted_max\", \"run_name\": \"StandardScalerWrapper, ExtremeRandomTrees\", \"run_properties\": \"copy=True, with_mean=True, with_std=False\", \"primary_metric\": 0.96760908, \"best_metric\": 0.97391915}, {\"run_id\": \"AutoML_491025b3-1f9f-436c-8c4d-9b2ce65b7b36_38\", \"run_number\": 1651014189, \"metric\": null, \"status\": \"Completed\", \"run_type\": \"azureml.scriptrun\", \"training_percent\": \"100\", \"start_time\": \"2022-04-26T23:06:06.012077Z\", \"end_time\": \"2022-04-26T23:06:32.272435Z\", \"created_time\": \"2022-04-26T23:03:09.205292Z\", \"created_time_dt\": \"2022-04-26T23:03:09.205292Z\", \"duration\": \"0:03:23\", \"iteration\": \"38\", \"goal\": \"AUC_weighted_max\", \"run_name\": \"StandardScalerWrapper, RandomForest\", \"run_properties\": \"copy=True, with_mean=True, with_std=False\", \"primary_metric\": 0.95874259, \"best_metric\": 0.97391915}, {\"run_id\": \"AutoML_491025b3-1f9f-436c-8c4d-9b2ce65b7b36_39\", \"run_number\": 1651014203, \"metric\": null, \"status\": \"Completed\", \"run_type\": \"azureml.scriptrun\", \"training_percent\": \"100\", \"start_time\": \"2022-04-26T23:05:45.728011Z\", \"end_time\": \"2022-04-26T23:05:49.326261Z\", \"created_time\": \"2022-04-26T23:03:23.38974Z\", \"created_time_dt\": \"2022-04-26T23:03:23.38974Z\", \"duration\": \"0:02:25\", \"iteration\": \"39\", \"goal\": \"AUC_weighted_max\", \"run_name\": \"StandardScalerWrapper, LightGBM\", \"run_properties\": \"copy=True, with_mean=False, with_std=False\", \"primary_metric\": 0.96218977, \"best_metric\": 0.97391915}, {\"run_id\": \"AutoML_491025b3-1f9f-436c-8c4d-9b2ce65b7b36_40\", \"run_number\": 1651014288, \"metric\": null, \"status\": \"Completed\", \"run_type\": \"azureml.scriptrun\", \"training_percent\": \"100\", \"start_time\": \"2022-04-26T23:06:35.02193Z\", \"end_time\": \"2022-04-26T23:06:38.638433Z\", \"created_time\": \"2022-04-26T23:04:48.571611Z\", \"created_time_dt\": \"2022-04-26T23:04:48.571611Z\", \"duration\": \"0:01:50\", \"iteration\": \"40\", \"goal\": \"AUC_weighted_max\", \"run_name\": \"PCA, LightGBM\", \"run_properties\": \"copy=True, iterated_power='auto', n_components=0.9005263157894737,\\n    random_state=None, svd_solver='auto', tol=0.0, whiten=False\", \"primary_metric\": 0.72152964, \"best_metric\": 0.97391915}, {\"run_id\": \"AutoML_491025b3-1f9f-436c-8c4d-9b2ce65b7b36_41\", \"run_number\": 1651014351, \"metric\": null, \"status\": \"Canceled\", \"run_type\": \"azureml.scriptrun\", \"training_percent\": \"100\", \"start_time\": \"2022-04-26T23:08:14.914356Z\", \"end_time\": \"2022-04-26T23:09:19.591374Z\", \"created_time\": \"2022-04-26T23:05:51.50531Z\", \"created_time_dt\": \"2022-04-26T23:05:51.50531Z\", \"duration\": \"0:03:28\", \"iteration\": \"41\", \"goal\": null, \"run_name\": \"StandardScalerWrapper, XGBoostClassifier\", \"run_properties\": null}, {\"run_id\": \"AutoML_491025b3-1f9f-436c-8c4d-9b2ce65b7b36_42\", \"run_number\": 1651014394, \"metric\": null, \"status\": \"Completed\", \"run_type\": \"azureml.scriptrun\", \"training_percent\": \"100\", \"start_time\": \"2022-04-26T23:09:15.15261Z\", \"end_time\": \"2022-04-26T23:09:18.731593Z\", \"created_time\": \"2022-04-26T23:06:34.325343Z\", \"created_time_dt\": \"2022-04-26T23:06:34.325343Z\", \"duration\": \"0:02:44\", \"iteration\": \"42\", \"goal\": \"AUC_weighted_max\", \"run_name\": \"StandardScalerWrapper, GradientBoosting\", \"run_properties\": \"copy=True, with_mean=True, with_std=False\", \"primary_metric\": 0.96870729, \"best_metric\": 0.97391915}, {\"run_id\": \"AutoML_491025b3-1f9f-436c-8c4d-9b2ce65b7b36_43\", \"run_number\": 1651014400, \"metric\": null, \"status\": \"Canceled\", \"run_type\": \"azureml.scriptrun\", \"training_percent\": \"100\", \"start_time\": \"2022-04-26T23:09:19.403797Z\", \"end_time\": \"2022-04-26T23:09:19.574588Z\", \"created_time\": \"2022-04-26T23:06:40.735383Z\", \"created_time_dt\": \"2022-04-26T23:06:40.735383Z\", \"duration\": \"0:02:38\", \"iteration\": \"43\", \"goal\": null, \"run_name\": \"Canceled\", \"run_properties\": null}, {\"run_id\": \"AutoML_491025b3-1f9f-436c-8c4d-9b2ce65b7b36_44\", \"run_number\": 1651014563, \"metric\": null, \"status\": \"Completed\", \"run_type\": \"azureml.scriptrun\", \"training_percent\": \"100\", \"start_time\": \"2022-04-26T23:10:24.843584Z\", \"end_time\": \"2022-04-26T23:10:28.426355Z\", \"created_time\": \"2022-04-26T23:09:23.468372Z\", \"created_time_dt\": \"2022-04-26T23:09:23.468372Z\", \"duration\": \"0:01:04\", \"iteration\": \"44\", \"goal\": \"AUC_weighted_max\", \"run_name\": \"VotingEnsemble\", \"run_properties\": \"classification_labels=array([0, 1]\", \"primary_metric\": 0.97251947, \"best_metric\": 0.97391915}], \"children_metrics\": {\"categories\": [0], \"series\": {\"average_precision_score_macro\": [{\"categories\": [\"0\", \"2\", \"7\", \"12\", \"17\", \"20\", \"22\", \"23\", \"24\", \"27\", \"28\", \"29\", \"30\", \"31\", \"32\", \"33\", \"34\", \"35\", \"36\", \"37\", \"38\", \"39\", \"40\", \"42\", \"44\"], \"mode\": \"markers\", \"name\": \"average_precision_score_macro\", \"stepped\": false, \"type\": \"scatter\", \"data\": [0.6452389987972351, 0.7583307861564881, 0.8348672084870365, 0.8570860360878259, 0.936941649854565, 0.8607486016679383, 0.8740682600354344, 0.9244556047560071, 0.8549058251188548, 0.9464020375143241, 0.9313495259448883, 0.872280507267507, 0.9354654878095361, 0.8974860665206665, 0.8745389428770564, 0.8931405064223303, 0.8729410473782846, 0.8208847658894964, 0.9175867212594573, 0.8178405354346986, 0.7304806344672516, 0.9425731676471495, 0.5020120430473143, 0.853304138371785, 0.9247465981770817]}, {\"categories\": [\"0\", \"2\", \"7\", \"12\", \"17\", \"20\", \"22\", \"23\", \"24\", \"27\", \"28\", \"29\", \"30\", \"31\", \"32\", \"33\", \"34\", \"35\", \"36\", \"37\", \"38\", \"39\", \"40\", \"42\", \"44\"], \"mode\": \"lines\", \"name\": \"average_precision_score_macro_max\", \"stepped\": true, \"type\": \"scatter\", \"data\": [0.6452389987972351, 0.7583307861564881, 0.8348672084870365, 0.8570860360878259, 0.936941649854565, 0.936941649854565, 0.936941649854565, 0.936941649854565, 0.936941649854565, 0.9464020375143241, 0.9464020375143241, 0.9464020375143241, 0.9464020375143241, 0.9464020375143241, 0.9464020375143241, 0.9464020375143241, 0.9464020375143241, 0.9464020375143241, 0.9464020375143241, 0.9464020375143241, 0.9464020375143241, 0.9464020375143241, 0.9464020375143241, 0.9464020375143241, 0.9464020375143241]}], \"matthews_correlation\": [{\"categories\": [\"0\", \"2\", \"7\", \"12\", \"17\", \"20\", \"22\", \"23\", \"24\", \"27\", \"28\", \"29\", \"30\", \"31\", \"32\", \"33\", \"34\", \"35\", \"36\", \"37\", \"38\", \"39\", \"40\", \"42\", \"44\"], \"mode\": \"markers\", \"name\": \"matthews_correlation\", \"stepped\": false, \"type\": \"scatter\", \"data\": [0.4610057721583005, 0.0, 0.0, 0.0, 0.869911682410321, 0.24472872996615733, 0.7676266657754605, 0.8275743381221243, 0.7449365775923402, 0.8815489362933638, 0.869911682410321, 0.7412006375917587, 0.8128727560201244, 0.783932831871621, 0.7676266657754605, 0.7711558978238343, 0.7711558978238343, 0.7676266657754605, 0.7711558978238343, 0.2755365444902911, 0.1756690650380653, 0.8815489362933638, 0.0, 0.0, 0.0]}, {\"categories\": [\"0\", \"2\", \"7\", \"12\", \"17\", \"20\", \"22\", \"23\", \"24\", \"27\", \"28\", \"29\", \"30\", \"31\", \"32\", \"33\", \"34\", \"35\", \"36\", \"37\", \"38\", \"39\", \"40\", \"42\", \"44\"], \"mode\": \"lines\", \"name\": \"matthews_correlation_max\", \"stepped\": true, \"type\": \"scatter\", \"data\": [0.4610057721583005, 0.4610057721583005, 0.4610057721583005, 0.4610057721583005, 0.869911682410321, 0.869911682410321, 0.869911682410321, 0.869911682410321, 0.869911682410321, 0.8815489362933638, 0.8815489362933638, 0.8815489362933638, 0.8815489362933638, 0.8815489362933638, 0.8815489362933638, 0.8815489362933638, 0.8815489362933638, 0.8815489362933638, 0.8815489362933638, 0.8815489362933638, 0.8815489362933638, 0.8815489362933638, 0.8815489362933638, 0.8815489362933638, 0.8815489362933638]}], \"f1_score_weighted\": [{\"categories\": [\"0\", \"2\", \"7\", \"12\", \"17\", \"20\", \"22\", \"23\", \"24\", \"27\", \"28\", \"29\", \"30\", \"31\", \"32\", \"33\", \"34\", \"35\", \"36\", \"37\", \"38\", \"39\", \"40\", \"42\", \"44\"], \"mode\": \"markers\", \"name\": \"f1_score_weighted\", \"stepped\": false, \"type\": \"scatter\", \"data\": [0.9974928949157759, 0.9974200728063972, 0.9974200728063972, 0.9974200728063972, 0.9995599701789695, 0.9872940419189311, 0.999225443764056, 0.9994199327586745, 0.9991394335087271, 0.9995989466678702, 0.9995599701789695, 0.9991414697934525, 0.9993729782851882, 0.9992749159483431, 0.999225443764056, 0.9992343527295705, 0.9992343527295705, 0.999225443764056, 0.9992343527295705, 0.9905942700401443, 0.9763292856726246, 0.9995989466678702, 0.9974200728063972, 0.9974200728063972, 0.9974200728063972]}, {\"categories\": [\"0\", \"2\", \"7\", \"12\", \"17\", \"20\", \"22\", \"23\", \"24\", \"27\", \"28\", \"29\", \"30\", \"31\", \"32\", \"33\", \"34\", \"35\", \"36\", \"37\", \"38\", \"39\", \"40\", \"42\", \"44\"], \"mode\": \"lines\", \"name\": \"f1_score_weighted_max\", \"stepped\": true, \"type\": \"scatter\", \"data\": [0.9974928949157759, 0.9974928949157759, 0.9974928949157759, 0.9974928949157759, 0.9995599701789695, 0.9995599701789695, 0.9995599701789695, 0.9995599701789695, 0.9995599701789695, 0.9995989466678702, 0.9995989466678702, 0.9995989466678702, 0.9995989466678702, 0.9995989466678702, 0.9995989466678702, 0.9995989466678702, 0.9995989466678702, 0.9995989466678702, 0.9995989466678702, 0.9995989466678702, 0.9995989466678702, 0.9995989466678702, 0.9995989466678702, 0.9995989466678702, 0.9995989466678702]}], \"f1_score_macro\": [{\"categories\": [\"0\", \"2\", \"7\", \"12\", \"17\", \"20\", \"22\", \"23\", \"24\", \"27\", \"28\", \"29\", \"30\", \"31\", \"32\", \"33\", \"34\", \"35\", \"36\", \"37\", \"38\", \"39\", \"40\", \"42\", \"44\"], \"mode\": \"markers\", \"name\": \"f1_score_macro\", \"stepped\": false, \"type\": \"scatter\", \"data\": [0.7149205507688474, 0.4995695183877146, 0.4995695183877146, 0.4995695183877146, 0.933227833263, 0.5568035283857776, 0.8818378500332991, 0.9129028065534667, 0.8721294105498512, 0.939463729462147, 0.933227833263, 0.8676138941518252, 0.9043449262174326, 0.8911285081918334, 0.8818378500332991, 0.8844307562459168, 0.8844307562459168, 0.8818378500332991, 0.8844307562459168, 0.5762363571149322, 0.5230381072505726, 0.939463729462147, 0.4995695183877146, 0.4995695183877146, 0.4995695183877146]}, {\"categories\": [\"0\", \"2\", \"7\", \"12\", \"17\", \"20\", \"22\", \"23\", \"24\", \"27\", \"28\", \"29\", \"30\", \"31\", \"32\", \"33\", \"34\", \"35\", \"36\", \"37\", \"38\", \"39\", \"40\", \"42\", \"44\"], \"mode\": \"lines\", \"name\": \"f1_score_macro_max\", \"stepped\": true, \"type\": \"scatter\", \"data\": [0.7149205507688474, 0.7149205507688474, 0.7149205507688474, 0.7149205507688474, 0.933227833263, 0.933227833263, 0.933227833263, 0.933227833263, 0.933227833263, 0.939463729462147, 0.939463729462147, 0.939463729462147, 0.939463729462147, 0.939463729462147, 0.939463729462147, 0.939463729462147, 0.939463729462147, 0.939463729462147, 0.939463729462147, 0.939463729462147, 0.939463729462147, 0.939463729462147, 0.939463729462147, 0.939463729462147, 0.939463729462147]}], \"precision_score_weighted\": [{\"categories\": [\"0\", \"2\", \"7\", \"12\", \"17\", \"20\", \"22\", \"23\", \"24\", \"27\", \"28\", \"29\", \"30\", \"31\", \"32\", \"33\", \"34\", \"35\", \"36\", \"37\", \"38\", \"39\", \"40\", \"42\", \"44\"], \"mode\": \"markers\", \"name\": \"precision_score_weighted\", \"stepped\": false, \"type\": \"scatter\", \"data\": [0.9982625984302875, 0.996562069513544, 0.996562069513544, 0.996562069513544, 0.9995650633417746, 0.9982511723156868, 0.9992154329787769, 0.9994138073248731, 0.9991261922139587, 0.9996021516777653, 0.9995650633417746, 0.999131692442237, 0.9993716552712124, 0.9992635791799049, 0.9992154329787769, 0.9992218243497565, 0.9992218243497565, 0.9992154329787769, 0.9992218243497565, 0.9982174997874708, 0.998193715621187, 0.9996021516777653, 0.996562069513544, 0.996562069513544, 0.996562069513544]}, {\"categories\": [\"0\", \"2\", \"7\", \"12\", \"17\", \"20\", \"22\", \"23\", \"24\", \"27\", \"28\", \"29\", \"30\", \"31\", \"32\", \"33\", \"34\", \"35\", \"36\", \"37\", \"38\", \"39\", \"40\", \"42\", \"44\"], \"mode\": \"lines\", \"name\": \"precision_score_weighted_max\", \"stepped\": true, \"type\": \"scatter\", \"data\": [0.9982625984302875, 0.9982625984302875, 0.9982625984302875, 0.9982625984302875, 0.9995650633417746, 0.9995650633417746, 0.9995650633417746, 0.9995650633417746, 0.9995650633417746, 0.9996021516777653, 0.9996021516777653, 0.9996021516777653, 0.9996021516777653, 0.9996021516777653, 0.9996021516777653, 0.9996021516777653, 0.9996021516777653, 0.9996021516777653, 0.9996021516777653, 0.9996021516777653, 0.9996021516777653, 0.9996021516777653, 0.9996021516777653, 0.9996021516777653, 0.9996021516777653]}], \"weighted_accuracy\": [{\"categories\": [\"0\", \"2\", \"7\", \"12\", \"17\", \"20\", \"22\", \"23\", \"24\", \"27\", \"28\", \"29\", \"30\", \"31\", \"32\", \"33\", \"34\", \"35\", \"36\", \"37\", \"38\", \"39\", \"40\", \"42\", \"44\"], \"mode\": \"markers\", \"name\": \"weighted_accuracy\", \"stepped\": false, \"type\": \"scatter\", \"data\": [0.9975018513082985, 0.9999970298659596, 0.9999970298659596, 0.9999970298659596, 0.9999290507839419, 0.9779472062694693, 0.9997880615765319, 0.9998234755695805, 0.9996474360590045, 0.9999291113989223, 0.9999290507839419, 0.9997879403465711, 0.9998585258727467, 0.9997530112733657, 0.9997880615765319, 0.9997529506583853, 0.9997529506583854, 0.9997880615765319, 0.9997529506583853, 0.9843834756017436, 0.9568794579264153, 0.9999291113989223, 0.9999970298659596, 0.9999970298659596, 0.9999970298659596]}, {\"categories\": [\"0\", \"2\", \"7\", \"12\", \"17\", \"20\", \"22\", \"23\", \"24\", \"27\", \"28\", \"29\", \"30\", \"31\", \"32\", \"33\", \"34\", \"35\", \"36\", \"37\", \"38\", \"39\", \"40\", \"42\", \"44\"], \"mode\": \"lines\", \"name\": \"weighted_accuracy_max\", \"stepped\": true, \"type\": \"scatter\", \"data\": [0.9975018513082985, 0.9999970298659596, 0.9999970298659596, 0.9999970298659596, 0.9999970298659596, 0.9999970298659596, 0.9999970298659596, 0.9999970298659596, 0.9999970298659596, 0.9999970298659596, 0.9999970298659596, 0.9999970298659596, 0.9999970298659596, 0.9999970298659596, 0.9999970298659596, 0.9999970298659596, 0.9999970298659596, 0.9999970298659596, 0.9999970298659596, 0.9999970298659596, 0.9999970298659596, 0.9999970298659596, 0.9999970298659596, 0.9999970298659596, 0.9999970298659596]}], \"norm_macro_recall\": [{\"categories\": [\"0\", \"2\", \"7\", \"12\", \"17\", \"20\", \"22\", \"23\", \"24\", \"27\", \"28\", \"29\", \"30\", \"31\", \"32\", \"33\", \"34\", \"35\", \"36\", \"37\", \"38\", \"39\", \"40\", \"42\", \"44\"], \"mode\": \"markers\", \"name\": \"norm_macro_recall\", \"stepped\": false, \"type\": \"scatter\", \"data\": [0.6709722014861095, 0.0, 0.0, 0.0, 0.795848024071756, 0.8963147301689387, 0.6936665211948596, 0.7753343458936754, 0.7139339979097998, 0.816256187337062, 0.795848024071756, 0.6528501946642473, 0.7345531910006546, 0.7344476760878802, 0.6936665211948596, 0.7140395128225743, 0.7140395128225743, 0.6936665211948596, 0.7140395128225743, 0.861934813317561, 0.8752469192516625, 0.816256187337062, 0.0, 0.0, 0.0]}, {\"categories\": [\"0\", \"2\", \"7\", \"12\", \"17\", \"20\", \"22\", \"23\", \"24\", \"27\", \"28\", \"29\", \"30\", \"31\", \"32\", \"33\", \"34\", \"35\", \"36\", \"37\", \"38\", \"39\", \"40\", \"42\", \"44\"], \"mode\": \"lines\", \"name\": \"norm_macro_recall_max\", \"stepped\": true, \"type\": \"scatter\", \"data\": [0.6709722014861095, 0.6709722014861095, 0.6709722014861095, 0.6709722014861095, 0.795848024071756, 0.8963147301689387, 0.8963147301689387, 0.8963147301689387, 0.8963147301689387, 0.8963147301689387, 0.8963147301689387, 0.8963147301689387, 0.8963147301689387, 0.8963147301689387, 0.8963147301689387, 0.8963147301689387, 0.8963147301689387, 0.8963147301689387, 0.8963147301689387, 0.8963147301689387, 0.8963147301689387, 0.8963147301689387, 0.8963147301689387, 0.8963147301689387, 0.8963147301689387]}], \"precision_score_macro\": [{\"categories\": [\"0\", \"2\", \"7\", \"12\", \"17\", \"20\", \"22\", \"23\", \"24\", \"27\", \"28\", \"29\", \"30\", \"31\", \"32\", \"33\", \"34\", \"35\", \"36\", \"37\", \"38\", \"39\", \"40\", \"42\", \"44\"], \"mode\": \"markers\", \"name\": \"precision_score_macro\", \"stepped\": false, \"type\": \"scatter\", \"data\": [0.6583719276987593, 0.4991397773954566, 0.4991397773954566, 0.4991397773954566, 0.9754339473774485, 0.5334102236942819, 0.9247362961921171, 0.9416670619233682, 0.888642722058111, 0.9760322427786121, 0.9754339473774485, 0.920753788278311, 0.9497714566998348, 0.918376083752987, 0.9247362961921171, 0.9164205258037672, 0.9164205258037672, 0.9247362961921171, 0.9164205258037672, 0.5440406781212577, 0.5176290939919749, 0.9760322427786121, 0.4991397773954566, 0.4991397773954566, 0.4991397773954566]}, {\"categories\": [\"0\", \"2\", \"7\", \"12\", \"17\", \"20\", \"22\", \"23\", \"24\", \"27\", \"28\", \"29\", \"30\", \"31\", \"32\", \"33\", \"34\", \"35\", \"36\", \"37\", \"38\", \"39\", \"40\", \"42\", \"44\"], \"mode\": \"lines\", \"name\": \"precision_score_macro_max\", \"stepped\": true, \"type\": \"scatter\", \"data\": [0.6583719276987593, 0.6583719276987593, 0.6583719276987593, 0.6583719276987593, 0.9754339473774485, 0.9754339473774485, 0.9754339473774485, 0.9754339473774485, 0.9754339473774485, 0.9760322427786121, 0.9760322427786121, 0.9760322427786121, 0.9760322427786121, 0.9760322427786121, 0.9760322427786121, 0.9760322427786121, 0.9760322427786121, 0.9760322427786121, 0.9760322427786121, 0.9760322427786121, 0.9760322427786121, 0.9760322427786121, 0.9760322427786121, 0.9760322427786121, 0.9760322427786121]}], \"f1_score_micro\": [{\"categories\": [\"0\", \"2\", \"7\", \"12\", \"17\", \"20\", \"22\", \"23\", \"24\", \"27\", \"28\", \"29\", \"30\", \"31\", \"32\", \"33\", \"34\", \"35\", \"36\", \"37\", \"38\", \"39\", \"40\", \"42\", \"44\"], \"mode\": \"markers\", \"name\": \"f1_score_micro\", \"stepped\": false, \"type\": \"scatter\", \"data\": [0.9969453319757031, 0.9982795547909132, 0.9982795547909132, 0.9982795547909132, 0.9995786664794073, 0.9778448790421684, 0.9992626663389628, 0.9994382219725431, 0.9991573329588147, 0.9996137776061234, 0.9995786664794073, 0.9991924440855307, 0.999403110845827, 0.9992977774656788, 0.9992626663389628, 0.9992626663389628, 0.9992626663389628, 0.9992626663389628, 0.9992626663389628, 0.9841999929777746, 0.9568133141392507, 0.9996137776061234, 0.9982795547909132, 0.9982795547909132, 0.9982795547909132]}, {\"categories\": [\"0\", \"2\", \"7\", \"12\", \"17\", \"20\", \"22\", \"23\", \"24\", \"27\", \"28\", \"29\", \"30\", \"31\", \"32\", \"33\", \"34\", \"35\", \"36\", \"37\", \"38\", \"39\", \"40\", \"42\", \"44\"], \"mode\": \"lines\", \"name\": \"f1_score_micro_max\", \"stepped\": true, \"type\": \"scatter\", \"data\": [0.9969453319757031, 0.9982795547909132, 0.9982795547909132, 0.9982795547909132, 0.9995786664794073, 0.9995786664794073, 0.9995786664794073, 0.9995786664794073, 0.9995786664794073, 0.9996137776061234, 0.9996137776061234, 0.9996137776061234, 0.9996137776061234, 0.9996137776061234, 0.9996137776061234, 0.9996137776061234, 0.9996137776061234, 0.9996137776061234, 0.9996137776061234, 0.9996137776061234, 0.9996137776061234, 0.9996137776061234, 0.9996137776061234, 0.9996137776061234, 0.9996137776061234]}], \"recall_score_weighted\": [{\"categories\": [\"0\", \"2\", \"7\", \"12\", \"17\", \"20\", \"22\", \"23\", \"24\", \"27\", \"28\", \"29\", \"30\", \"31\", \"32\", \"33\", \"34\", \"35\", \"36\", \"37\", \"38\", \"39\", \"40\", \"42\", \"44\"], \"mode\": \"markers\", \"name\": \"recall_score_weighted\", \"stepped\": false, \"type\": \"scatter\", \"data\": [0.9969453319757031, 0.9982795547909132, 0.9982795547909132, 0.9982795547909132, 0.9995786664794073, 0.9778448790421684, 0.9992626663389628, 0.9994382219725431, 0.9991573329588147, 0.9996137776061234, 0.9995786664794073, 0.9991924440855307, 0.999403110845827, 0.9992977774656788, 0.9992626663389628, 0.9992626663389628, 0.9992626663389628, 0.9992626663389628, 0.9992626663389628, 0.9841999929777746, 0.9568133141392507, 0.9996137776061234, 0.9982795547909132, 0.9982795547909132, 0.9982795547909132]}, {\"categories\": [\"0\", \"2\", \"7\", \"12\", \"17\", \"20\", \"22\", \"23\", \"24\", \"27\", \"28\", \"29\", \"30\", \"31\", \"32\", \"33\", \"34\", \"35\", \"36\", \"37\", \"38\", \"39\", \"40\", \"42\", \"44\"], \"mode\": \"lines\", \"name\": \"recall_score_weighted_max\", \"stepped\": true, \"type\": \"scatter\", \"data\": [0.9969453319757031, 0.9982795547909132, 0.9982795547909132, 0.9982795547909132, 0.9995786664794073, 0.9995786664794073, 0.9995786664794073, 0.9995786664794073, 0.9995786664794073, 0.9996137776061234, 0.9996137776061234, 0.9996137776061234, 0.9996137776061234, 0.9996137776061234, 0.9996137776061234, 0.9996137776061234, 0.9996137776061234, 0.9996137776061234, 0.9996137776061234, 0.9996137776061234, 0.9996137776061234, 0.9996137776061234, 0.9996137776061234, 0.9996137776061234, 0.9996137776061234]}], \"recall_score_macro\": [{\"categories\": [\"0\", \"2\", \"7\", \"12\", \"17\", \"20\", \"22\", \"23\", \"24\", \"27\", \"28\", \"29\", \"30\", \"31\", \"32\", \"33\", \"34\", \"35\", \"36\", \"37\", \"38\", \"39\", \"40\", \"42\", \"44\"], \"mode\": \"markers\", \"name\": \"recall_score_macro\", \"stepped\": false, \"type\": \"scatter\", \"data\": [0.8354861007430547, 0.5, 0.5, 0.5, 0.897924012035878, 0.9481573650844694, 0.8468332605974298, 0.8876671729468377, 0.8569669989548999, 0.908128093668531, 0.897924012035878, 0.8264250973321237, 0.8672765955003273, 0.8672238380439401, 0.8468332605974298, 0.8570197564112871, 0.8570197564112871, 0.8468332605974298, 0.8570197564112871, 0.9309674066587805, 0.9376234596258313, 0.908128093668531, 0.5, 0.5, 0.5]}, {\"categories\": [\"0\", \"2\", \"7\", \"12\", \"17\", \"20\", \"22\", \"23\", \"24\", \"27\", \"28\", \"29\", \"30\", \"31\", \"32\", \"33\", \"34\", \"35\", \"36\", \"37\", \"38\", \"39\", \"40\", \"42\", \"44\"], \"mode\": \"lines\", \"name\": \"recall_score_macro_max\", \"stepped\": true, \"type\": \"scatter\", \"data\": [0.8354861007430547, 0.8354861007430547, 0.8354861007430547, 0.8354861007430547, 0.897924012035878, 0.9481573650844694, 0.9481573650844694, 0.9481573650844694, 0.9481573650844694, 0.9481573650844694, 0.9481573650844694, 0.9481573650844694, 0.9481573650844694, 0.9481573650844694, 0.9481573650844694, 0.9481573650844694, 0.9481573650844694, 0.9481573650844694, 0.9481573650844694, 0.9481573650844694, 0.9481573650844694, 0.9481573650844694, 0.9481573650844694, 0.9481573650844694, 0.9481573650844694]}], \"average_precision_score_micro\": [{\"categories\": [\"0\", \"2\", \"7\", \"12\", \"17\", \"20\", \"22\", \"23\", \"24\", \"27\", \"28\", \"29\", \"30\", \"31\", \"32\", \"33\", \"34\", \"35\", \"36\", \"37\", \"38\", \"39\", \"40\", \"42\", \"44\"], \"mode\": \"markers\", \"name\": \"average_precision_score_micro\", \"stepped\": false, \"type\": \"scatter\", \"data\": [0.9959359617161209, 0.999751639482913, 0.999853727354603, 0.9998143354695189, 0.9997837417932798, 0.9970378197576399, 0.9996878873354119, 0.9996829314655927, 0.9998456118643777, 0.9998671888265297, 0.9998505299930341, 0.9995609325532918, 0.9999095246331098, 0.9998735418659463, 0.9996735650688369, 0.9998104194280655, 0.9998248267752002, 0.9997982839280142, 0.9998630559659053, 0.9978450296692944, 0.9908233454535069, 0.9998609671197451, 0.998825437993531, 0.9998838907734785, 0.9999024328905912]}, {\"categories\": [\"0\", \"2\", \"7\", \"12\", \"17\", \"20\", \"22\", \"23\", \"24\", \"27\", \"28\", \"29\", \"30\", \"31\", \"32\", \"33\", \"34\", \"35\", \"36\", \"37\", \"38\", \"39\", \"40\", \"42\", \"44\"], \"mode\": \"lines\", \"name\": \"average_precision_score_micro_max\", \"stepped\": true, \"type\": \"scatter\", \"data\": [0.9959359617161209, 0.999751639482913, 0.999853727354603, 0.999853727354603, 0.999853727354603, 0.999853727354603, 0.999853727354603, 0.999853727354603, 0.999853727354603, 0.9998671888265297, 0.9998671888265297, 0.9998671888265297, 0.9999095246331098, 0.9999095246331098, 0.9999095246331098, 0.9999095246331098, 0.9999095246331098, 0.9999095246331098, 0.9999095246331098, 0.9999095246331098, 0.9999095246331098, 0.9999095246331098, 0.9999095246331098, 0.9999095246331098, 0.9999095246331098]}], \"log_loss\": [{\"categories\": [\"0\", \"2\", \"7\", \"12\", \"17\", \"20\", \"22\", \"23\", \"24\", \"27\", \"28\", \"29\", \"30\", \"31\", \"32\", \"33\", \"34\", \"35\", \"36\", \"37\", \"38\", \"39\", \"40\", \"42\", \"44\"], \"mode\": \"markers\", \"name\": \"log_loss\", \"stepped\": false, \"type\": \"scatter\", \"data\": [0.08158449841374271, 0.010345030428512713, 0.008828587687235056, 0.008542161172560755, 0.006004537944770751, 0.18454689797782184, 0.004585301313162428, 0.06683811138024225, 0.0034759899254201945, 0.0025533340446281146, 0.0032009754798614717, 0.004548597243958138, 0.0026024409530458824, 0.0031404861157607747, 0.004520237621627423, 0.0032682807178503006, 0.0035683523698510824, 0.003672945091954095, 0.0030901448885660245, 0.3814015940738307, 0.13731555298537854, 0.0023938831278315555, 0.012179539605176376, 0.004832106339360662, 0.025691002802487203]}, {\"categories\": [\"0\", \"2\", \"7\", \"12\", \"17\", \"20\", \"22\", \"23\", \"24\", \"27\", \"28\", \"29\", \"30\", \"31\", \"32\", \"33\", \"34\", \"35\", \"36\", \"37\", \"38\", \"39\", \"40\", \"42\", \"44\"], \"mode\": \"lines\", \"name\": \"log_loss_min\", \"stepped\": true, \"type\": \"scatter\", \"data\": [0.08158449841374271, 0.010345030428512713, 0.008828587687235056, 0.008542161172560755, 0.006004537944770751, 0.006004537944770751, 0.004585301313162428, 0.004585301313162428, 0.0034759899254201945, 0.0025533340446281146, 0.0025533340446281146, 0.0025533340446281146, 0.0025533340446281146, 0.0025533340446281146, 0.0025533340446281146, 0.0025533340446281146, 0.0025533340446281146, 0.0025533340446281146, 0.0025533340446281146, 0.0025533340446281146, 0.0025533340446281146, 0.0023938831278315555, 0.0023938831278315555, 0.0023938831278315555, 0.0023938831278315555]}], \"recall_score_micro\": [{\"categories\": [\"0\", \"2\", \"7\", \"12\", \"17\", \"20\", \"22\", \"23\", \"24\", \"27\", \"28\", \"29\", \"30\", \"31\", \"32\", \"33\", \"34\", \"35\", \"36\", \"37\", \"38\", \"39\", \"40\", \"42\", \"44\"], \"mode\": \"markers\", \"name\": \"recall_score_micro\", \"stepped\": false, \"type\": \"scatter\", \"data\": [0.9969453319757031, 0.9982795547909132, 0.9982795547909132, 0.9982795547909132, 0.9995786664794073, 0.9778448790421684, 0.9992626663389628, 0.9994382219725431, 0.9991573329588147, 0.9996137776061234, 0.9995786664794073, 0.9991924440855307, 0.999403110845827, 0.9992977774656788, 0.9992626663389628, 0.9992626663389628, 0.9992626663389628, 0.9992626663389628, 0.9992626663389628, 0.9841999929777746, 0.9568133141392507, 0.9996137776061234, 0.9982795547909132, 0.9982795547909132, 0.9982795547909132]}, {\"categories\": [\"0\", \"2\", \"7\", \"12\", \"17\", \"20\", \"22\", \"23\", \"24\", \"27\", \"28\", \"29\", \"30\", \"31\", \"32\", \"33\", \"34\", \"35\", \"36\", \"37\", \"38\", \"39\", \"40\", \"42\", \"44\"], \"mode\": \"lines\", \"name\": \"recall_score_micro_max\", \"stepped\": true, \"type\": \"scatter\", \"data\": [0.9969453319757031, 0.9982795547909132, 0.9982795547909132, 0.9982795547909132, 0.9995786664794073, 0.9995786664794073, 0.9995786664794073, 0.9995786664794073, 0.9995786664794073, 0.9996137776061234, 0.9996137776061234, 0.9996137776061234, 0.9996137776061234, 0.9996137776061234, 0.9996137776061234, 0.9996137776061234, 0.9996137776061234, 0.9996137776061234, 0.9996137776061234, 0.9996137776061234, 0.9996137776061234, 0.9996137776061234, 0.9996137776061234, 0.9996137776061234, 0.9996137776061234]}], \"accuracy\": [{\"categories\": [\"0\", \"2\", \"7\", \"12\", \"17\", \"20\", \"22\", \"23\", \"24\", \"27\", \"28\", \"29\", \"30\", \"31\", \"32\", \"33\", \"34\", \"35\", \"36\", \"37\", \"38\", \"39\", \"40\", \"42\", \"44\"], \"mode\": \"markers\", \"name\": \"accuracy\", \"stepped\": false, \"type\": \"scatter\", \"data\": [0.9969453319757031, 0.9982795547909132, 0.9982795547909132, 0.9982795547909132, 0.9995786664794073, 0.9778448790421684, 0.9992626663389628, 0.9994382219725431, 0.9991573329588147, 0.9996137776061234, 0.9995786664794073, 0.9991924440855307, 0.999403110845827, 0.9992977774656788, 0.9992626663389628, 0.9992626663389628, 0.9992626663389628, 0.9992626663389628, 0.9992626663389628, 0.9841999929777746, 0.9568133141392507, 0.9996137776061234, 0.9982795547909132, 0.9982795547909132, 0.9982795547909132]}, {\"categories\": [\"0\", \"2\", \"7\", \"12\", \"17\", \"20\", \"22\", \"23\", \"24\", \"27\", \"28\", \"29\", \"30\", \"31\", \"32\", \"33\", \"34\", \"35\", \"36\", \"37\", \"38\", \"39\", \"40\", \"42\", \"44\"], \"mode\": \"lines\", \"name\": \"accuracy_max\", \"stepped\": true, \"type\": \"scatter\", \"data\": [0.9969453319757031, 0.9982795547909132, 0.9982795547909132, 0.9982795547909132, 0.9995786664794073, 0.9995786664794073, 0.9995786664794073, 0.9995786664794073, 0.9995786664794073, 0.9996137776061234, 0.9996137776061234, 0.9996137776061234, 0.9996137776061234, 0.9996137776061234, 0.9996137776061234, 0.9996137776061234, 0.9996137776061234, 0.9996137776061234, 0.9996137776061234, 0.9996137776061234, 0.9996137776061234, 0.9996137776061234, 0.9996137776061234, 0.9996137776061234, 0.9996137776061234]}], \"average_precision_score_weighted\": [{\"categories\": [\"0\", \"2\", \"7\", \"12\", \"17\", \"20\", \"22\", \"23\", \"24\", \"27\", \"28\", \"29\", \"30\", \"31\", \"32\", \"33\", \"34\", \"35\", \"36\", \"37\", \"38\", \"39\", \"40\", \"42\", \"44\"], \"mode\": \"markers\", \"name\": \"average_precision_score_weighted\", \"stepped\": false, \"type\": \"scatter\", \"data\": [0.9981009505192511, 0.9989898112943686, 0.9993346191161806, 0.9993738671014433, 0.9996385443019649, 0.9994338828220858, 0.9994050438770575, 0.9995293024752508, 0.999394943772722, 0.9997254387274073, 0.9996572206521483, 0.999464447461603, 0.9997222751637939, 0.999564060296234, 0.999408035699504, 0.999494343904077, 0.9994391820303101, 0.9992371853332317, 0.9996234229570039, 0.9992621867028365, 0.9989577161470532, 0.9997070539338002, 0.997477542173394, 0.9994201896946108, 0.9996814419159853]}, {\"categories\": [\"0\", \"2\", \"7\", \"12\", \"17\", \"20\", \"22\", \"23\", \"24\", \"27\", \"28\", \"29\", \"30\", \"31\", \"32\", \"33\", \"34\", \"35\", \"36\", \"37\", \"38\", \"39\", \"40\", \"42\", \"44\"], \"mode\": \"lines\", \"name\": \"average_precision_score_weighted_max\", \"stepped\": true, \"type\": \"scatter\", \"data\": [0.9981009505192511, 0.9989898112943686, 0.9993346191161806, 0.9993738671014433, 0.9996385443019649, 0.9996385443019649, 0.9996385443019649, 0.9996385443019649, 0.9996385443019649, 0.9997254387274073, 0.9997254387274073, 0.9997254387274073, 0.9997254387274073, 0.9997254387274073, 0.9997254387274073, 0.9997254387274073, 0.9997254387274073, 0.9997254387274073, 0.9997254387274073, 0.9997254387274073, 0.9997254387274073, 0.9997254387274073, 0.9997254387274073, 0.9997254387274073, 0.9997254387274073]}], \"precision_score_micro\": [{\"categories\": [\"0\", \"2\", \"7\", \"12\", \"17\", \"20\", \"22\", \"23\", \"24\", \"27\", \"28\", \"29\", \"30\", \"31\", \"32\", \"33\", \"34\", \"35\", \"36\", \"37\", \"38\", \"39\", \"40\", \"42\", \"44\"], \"mode\": \"markers\", \"name\": \"precision_score_micro\", \"stepped\": false, \"type\": \"scatter\", \"data\": [0.9969453319757031, 0.9982795547909132, 0.9982795547909132, 0.9982795547909132, 0.9995786664794073, 0.9778448790421684, 0.9992626663389628, 0.9994382219725431, 0.9991573329588147, 0.9996137776061234, 0.9995786664794073, 0.9991924440855307, 0.999403110845827, 0.9992977774656788, 0.9992626663389628, 0.9992626663389628, 0.9992626663389628, 0.9992626663389628, 0.9992626663389628, 0.9841999929777746, 0.9568133141392507, 0.9996137776061234, 0.9982795547909132, 0.9982795547909132, 0.9982795547909132]}, {\"categories\": [\"0\", \"2\", \"7\", \"12\", \"17\", \"20\", \"22\", \"23\", \"24\", \"27\", \"28\", \"29\", \"30\", \"31\", \"32\", \"33\", \"34\", \"35\", \"36\", \"37\", \"38\", \"39\", \"40\", \"42\", \"44\"], \"mode\": \"lines\", \"name\": \"precision_score_micro_max\", \"stepped\": true, \"type\": \"scatter\", \"data\": [0.9969453319757031, 0.9982795547909132, 0.9982795547909132, 0.9982795547909132, 0.9995786664794073, 0.9995786664794073, 0.9995786664794073, 0.9995786664794073, 0.9995786664794073, 0.9996137776061234, 0.9996137776061234, 0.9996137776061234, 0.9996137776061234, 0.9996137776061234, 0.9996137776061234, 0.9996137776061234, 0.9996137776061234, 0.9996137776061234, 0.9996137776061234, 0.9996137776061234, 0.9996137776061234, 0.9996137776061234, 0.9996137776061234, 0.9996137776061234, 0.9996137776061234]}], \"AUC_macro\": [{\"categories\": [\"0\", \"2\", \"7\", \"12\", \"17\", \"20\", \"22\", \"23\", \"24\", \"27\", \"28\", \"29\", \"30\", \"31\", \"32\", \"33\", \"34\", \"35\", \"36\", \"37\", \"38\", \"39\", \"40\", \"42\", \"44\"], \"mode\": \"markers\", \"name\": \"AUC_macro\", \"stepped\": false, \"type\": \"scatter\", \"data\": [0.809238010060524, 0.9399246896282429, 0.9612318830176978, 0.9556281080243014, 0.9578550469146578, 0.9643341650109678, 0.9468111527109437, 0.9386018053816911, 0.9581285243416444, 0.9633859663730433, 0.961693959378912, 0.9620835390993764, 0.9739191540431592, 0.9647041849942003, 0.9496299082379154, 0.9527077854214279, 0.954638277652085, 0.94974188324739, 0.9629972838882317, 0.9676090751438448, 0.9587425924224501, 0.9621897718006731, 0.7215296360525076, 0.9687072915829247, 0.9725194664247241]}, {\"categories\": [\"0\", \"2\", \"7\", \"12\", \"17\", \"20\", \"22\", \"23\", \"24\", \"27\", \"28\", \"29\", \"30\", \"31\", \"32\", \"33\", \"34\", \"35\", \"36\", \"37\", \"38\", \"39\", \"40\", \"42\", \"44\"], \"mode\": \"lines\", \"name\": \"AUC_macro_max\", \"stepped\": true, \"type\": \"scatter\", \"data\": [0.809238010060524, 0.9399246896282429, 0.9612318830176978, 0.9612318830176978, 0.9612318830176978, 0.9643341650109678, 0.9643341650109678, 0.9643341650109678, 0.9643341650109678, 0.9643341650109678, 0.9643341650109678, 0.9643341650109678, 0.9739191540431592, 0.9739191540431592, 0.9739191540431592, 0.9739191540431592, 0.9739191540431592, 0.9739191540431592, 0.9739191540431592, 0.9739191540431592, 0.9739191540431592, 0.9739191540431592, 0.9739191540431592, 0.9739191540431592, 0.9739191540431592]}], \"AUC_weighted\": [{\"categories\": [\"0\", \"2\", \"7\", \"12\", \"17\", \"20\", \"22\", \"23\", \"24\", \"27\", \"28\", \"29\", \"30\", \"31\", \"32\", \"33\", \"34\", \"35\", \"36\", \"37\", \"38\", \"39\", \"40\", \"42\", \"44\"], \"mode\": \"markers\", \"name\": \"AUC_weighted\", \"stepped\": false, \"type\": \"scatter\", \"data\": [0.8095849396254776, 0.939924689628243, 0.9612318830176977, 0.9556281080243014, 0.9578550469146578, 0.9643341650109678, 0.9468111527109437, 0.9386018053816912, 0.9581285243416444, 0.9633777402081011, 0.9615174544920002, 0.9620828237806858, 0.9739191540431593, 0.9647041849942005, 0.9496313388752967, 0.9527077854214279, 0.954638277652085, 0.94974188324739, 0.9629972838882317, 0.9676090751438446, 0.95874259242245, 0.962189771800673, 0.7215296360525076, 0.9687072915829246, 0.9725194664247241]}, {\"categories\": [\"0\", \"2\", \"7\", \"12\", \"17\", \"20\", \"22\", \"23\", \"24\", \"27\", \"28\", \"29\", \"30\", \"31\", \"32\", \"33\", \"34\", \"35\", \"36\", \"37\", \"38\", \"39\", \"40\", \"42\", \"44\"], \"mode\": \"lines\", \"name\": \"AUC_weighted_max\", \"stepped\": true, \"type\": \"scatter\", \"data\": [0.8095849396254776, 0.939924689628243, 0.9612318830176977, 0.9612318830176977, 0.9612318830176977, 0.9643341650109678, 0.9643341650109678, 0.9643341650109678, 0.9643341650109678, 0.9643341650109678, 0.9643341650109678, 0.9643341650109678, 0.9739191540431593, 0.9739191540431593, 0.9739191540431593, 0.9739191540431593, 0.9739191540431593, 0.9739191540431593, 0.9739191540431593, 0.9739191540431593, 0.9739191540431593, 0.9739191540431593, 0.9739191540431593, 0.9739191540431593, 0.9739191540431593]}], \"balanced_accuracy\": [{\"categories\": [\"0\", \"2\", \"7\", \"12\", \"17\", \"20\", \"22\", \"23\", \"24\", \"27\", \"28\", \"29\", \"30\", \"31\", \"32\", \"33\", \"34\", \"35\", \"36\", \"37\", \"38\", \"39\", \"40\", \"42\", \"44\"], \"mode\": \"markers\", \"name\": \"balanced_accuracy\", \"stepped\": false, \"type\": \"scatter\", \"data\": [0.8354861007430547, 0.5, 0.5, 0.5, 0.897924012035878, 0.9481573650844694, 0.8468332605974298, 0.8876671729468377, 0.8569669989548999, 0.908128093668531, 0.897924012035878, 0.8264250973321237, 0.8672765955003273, 0.8672238380439401, 0.8468332605974298, 0.8570197564112871, 0.8570197564112871, 0.8468332605974298, 0.8570197564112871, 0.9309674066587805, 0.9376234596258313, 0.908128093668531, 0.5, 0.5, 0.5]}, {\"categories\": [\"0\", \"2\", \"7\", \"12\", \"17\", \"20\", \"22\", \"23\", \"24\", \"27\", \"28\", \"29\", \"30\", \"31\", \"32\", \"33\", \"34\", \"35\", \"36\", \"37\", \"38\", \"39\", \"40\", \"42\", \"44\"], \"mode\": \"lines\", \"name\": \"balanced_accuracy_max\", \"stepped\": true, \"type\": \"scatter\", \"data\": [0.8354861007430547, 0.8354861007430547, 0.8354861007430547, 0.8354861007430547, 0.897924012035878, 0.9481573650844694, 0.9481573650844694, 0.9481573650844694, 0.9481573650844694, 0.9481573650844694, 0.9481573650844694, 0.9481573650844694, 0.9481573650844694, 0.9481573650844694, 0.9481573650844694, 0.9481573650844694, 0.9481573650844694, 0.9481573650844694, 0.9481573650844694, 0.9481573650844694, 0.9481573650844694, 0.9481573650844694, 0.9481573650844694, 0.9481573650844694, 0.9481573650844694]}], \"AUC_micro\": [{\"categories\": [\"0\", \"2\", \"7\", \"12\", \"17\", \"20\", \"22\", \"23\", \"24\", \"27\", \"28\", \"29\", \"30\", \"31\", \"32\", \"33\", \"34\", \"35\", \"36\", \"37\", \"38\", \"39\", \"40\", \"42\", \"44\"], \"mode\": \"markers\", \"name\": \"AUC_micro\", \"stepped\": false, \"type\": \"scatter\", \"data\": [0.9970225601816344, 0.9997906831460888, 0.9998638727279856, 0.9998446239258878, 0.9998545867281265, 0.9971475750735981, 0.9997376114840991, 0.9997882212620238, 0.9998549670442176, 0.99987362410653, 0.9998677023939082, 0.9997272862412422, 0.9999096548954957, 0.99987753698586, 0.9997398298918981, 0.9998365183236212, 0.9998429423986649, 0.9998261258936428, 0.999871808205064, 0.9981374398519469, 0.9906039205144991, 0.999869428918011, 0.9990405025677556, 0.9998895505362918, 0.999902645244623]}, {\"categories\": [\"0\", \"2\", \"7\", \"12\", \"17\", \"20\", \"22\", \"23\", \"24\", \"27\", \"28\", \"29\", \"30\", \"31\", \"32\", \"33\", \"34\", \"35\", \"36\", \"37\", \"38\", \"39\", \"40\", \"42\", \"44\"], \"mode\": \"lines\", \"name\": \"AUC_micro_max\", \"stepped\": true, \"type\": \"scatter\", \"data\": [0.9970225601816344, 0.9997906831460888, 0.9998638727279856, 0.9998638727279856, 0.9998638727279856, 0.9998638727279856, 0.9998638727279856, 0.9998638727279856, 0.9998638727279856, 0.99987362410653, 0.99987362410653, 0.99987362410653, 0.9999096548954957, 0.9999096548954957, 0.9999096548954957, 0.9999096548954957, 0.9999096548954957, 0.9999096548954957, 0.9999096548954957, 0.9999096548954957, 0.9999096548954957, 0.9999096548954957, 0.9999096548954957, 0.9999096548954957, 0.9999096548954957]}]}, \"metricName\": null, \"primaryMetricName\": \"AUC_weighted\", \"showLegend\": false}, \"run_metrics\": [{\"name\": \"experiment_status\", \"run_id\": \"AutoML_491025b3-1f9f-436c-8c4d-9b2ce65b7b36\", \"categories\": [0, 1, 2, 3, 4, 5, 6, 7, 8, 9, 10, 11, 12, 13], \"series\": [{\"data\": [\"DatasetEvaluation\", \"FeaturesGeneration\", \"DatasetFeaturization\", \"DatasetFeaturizationCompleted\", \"DatasetBalancing\", \"ModelSelection\", \"BestRunExplainModel\", \"ModelExplanationDataSetSetup\", \"PickSurrogateModel\", \"EngineeredFeatureExplanations\", \"EngineeredFeatureExplanations\", \"RawFeaturesExplanations\", \"RawFeaturesExplanations\", \"BestRunExplainModel\"]}]}, {\"name\": \"experiment_status_description\", \"run_id\": \"AutoML_491025b3-1f9f-436c-8c4d-9b2ce65b7b36\", \"categories\": [0, 1, 2, 3, 4, 5, 6, 7, 8, 9, 10, 11, 12, 13], \"series\": [{\"data\": [\"Gathering dataset statistics.\", \"Generating features for the dataset.\", \"Beginning to fit featurizers and featurize the dataset.\", \"Completed fit featurizers and featurizing the dataset.\", \"Performing class balancing sweeping\", \"Beginning model selection.\", \"Best run model explanations started\", \"Model explanations data setup completed\", \"Choosing LightGBM as the surrogate model for explanations\", \"Computation of engineered features started\", \"Computation of engineered features completed\", \"Computation of raw features started\", \"Computation of raw features completed\", \"Best run model explanations completed\"]}]}], \"run_logs\": \"\\nRun is completed.\", \"graph\": {}, \"widget_settings\": {\"childWidgetDisplay\": \"popup\", \"send_telemetry\": false, \"log_level\": \"INFO\", \"sdk_version\": \"1.40.0\"}, \"loading\": false}"
     },
     "metadata": {},
     "output_type": "display_data"
    }
   ],
   "source": [
    "from azureml.widgets import RunDetails\n",
    "RunDetails(remote_run).show()"
   ]
  },
  {
   "cell_type": "code",
   "execution_count": 7,
   "metadata": {},
   "outputs": [
    {
     "data": {
      "text/html": [
       "<table style=\"width:100%\"><tr><th>Experiment</th><th>Id</th><th>Type</th><th>Status</th><th>Details Page</th><th>Docs Page</th></tr><tr><td>creditcard-experiment</td><td>AutoML_491025b3-1f9f-436c-8c4d-9b2ce65b7b36</td><td>automl</td><td>NotStarted</td><td><a href=\"https://ml.azure.com/runs/AutoML_491025b3-1f9f-436c-8c4d-9b2ce65b7b36?wsid=/subscriptions/5e4d75b9-5b13-49fb-8306-ae971a3c14b1/resourcegroups/mlops-resource/workspaces/mlops-demo&amp;tid=f336fb5b-9257-44b3-a041-3897edf080c9\" target=\"_blank\" rel=\"noopener\">Link to Azure Machine Learning studio</a></td><td><a href=\"https://docs.microsoft.com/en-us/python/api/overview/azure/ml/intro?view=azure-ml-py\" target=\"_blank\" rel=\"noopener\">Link to Documentation</a></td></tr></table>"
      ],
      "text/plain": [
       "<IPython.core.display.HTML object>"
      ]
     },
     "metadata": {},
     "output_type": "display_data"
    },
    {
     "name": "stdout",
     "output_type": "stream",
     "text": [
      "\n",
      "Current status: DatasetEvaluation. Gathering dataset statistics.\n",
      "Current status: FeaturesGeneration. Generating features for the dataset.\n",
      "Current status: DatasetBalancing. Performing class balancing sweeping\n",
      "Current status: ModelSelection. Beginning model selection.\n",
      "\n",
      "********************************************************************************************\n",
      "DATA GUARDRAILS: \n",
      "\n",
      "TYPE:         Train-Test data split\n",
      "STATUS:       DONE\n",
      "DESCRIPTION:  Your input data has been split into a training dataset and a holdout test dataset for validation of the model. The test holdout dataset reflects the original distribution of your input data.\n",
      "              \n",
      "DETAILS:      \n",
      "+------------------------------+------------------------------+------------------------------+\n",
      "|Dataset                       |Row counts                    |Percentage                    |\n",
      "+==============================+==============================+==============================+\n",
      "|train                         |256326                        |89.99989466551033             |\n",
      "|test                          |28481                         |10.000105334489671            |\n",
      "+------------------------------+------------------------------+------------------------------+\n",
      "\n",
      "********************************************************************************************\n",
      "\n",
      "TYPE:         Class balancing detection\n",
      "STATUS:       ALERTED\n",
      "DESCRIPTION:  To decrease model bias, please cancel the current run and fix balancing problem.\n",
      "              Learn more about imbalanced data: https://aka.ms/AutomatedMLImbalancedData\n",
      "DETAILS:      Imbalanced data can lead to a falsely perceived positive effect of a model's accuracy because the input data has bias towards one class.\n",
      "+------------------------------+--------------------------------+--------------------------------------+\n",
      "|Size of the smallest class    |Name/Label of the smallest class|Number of samples in the training data|\n",
      "+==============================+================================+======================================+\n",
      "|443                           |1                               |256326                                |\n",
      "+------------------------------+--------------------------------+--------------------------------------+\n",
      "\n",
      "********************************************************************************************\n",
      "\n",
      "TYPE:         Missing feature values imputation\n",
      "STATUS:       DONE\n",
      "DESCRIPTION:  If the missing values are expected, let the run complete. Otherwise cancel the current run and use a script to customize the handling of missing feature values that may be more appropriate based on the data type and business requirement.\n",
      "              Learn more about missing value imputation: https://aka.ms/AutomatedMLFeaturization\n",
      "DETAILS:      \n",
      "+------------------------------+------------------------------+------------------------------+\n",
      "|Column name                   |Missing value count           |Imputation type               |\n",
      "+==============================+==============================+==============================+\n",
      "|Time                          |1                             |mean                          |\n",
      "+------------------------------+------------------------------+------------------------------+\n",
      "\n",
      "********************************************************************************************\n",
      "\n",
      "TYPE:         High cardinality feature detection\n",
      "STATUS:       PASSED\n",
      "DESCRIPTION:  Your inputs were analyzed, and no high cardinality features were detected.\n",
      "              Learn more about high cardinality feature handling: https://aka.ms/AutomatedMLFeaturization\n",
      "\n",
      "********************************************************************************************\n",
      "\n",
      "********************************************************************************************\n",
      "ITER: The iteration being evaluated.\n",
      "PIPELINE: A summary description of the pipeline being evaluated.\n",
      "DURATION: Time taken for the current iteration.\n",
      "METRIC: The result of computing score on the fitted pipeline.\n",
      "BEST: The best observed score thus far.\n",
      "********************************************************************************************\n",
      "\n",
      " ITER   PIPELINE                                       DURATION            METRIC      BEST\n",
      "    0   MaxAbsScaler LightGBM                          0:00:19             0.8096    0.8096\n",
      "    1   MaxAbsScaler XGBoostClassifier                 0:02:31             0.9548    0.9548\n",
      "    2   MaxAbsScaler ExtremeRandomTrees                0:00:16             0.9399    0.9548\n",
      "    3   MaxAbsScaler RandomForest                      0:00:23             0.9571    0.9571\n",
      "    4   StandardScalerWrapper LightGBM                 0:00:16             0.9632    0.9632\n",
      "    5   SparseNormalizer XGBoostClassifier             0:00:23             0.9441    0.9632\n",
      "    6   SparseNormalizer RandomForest                  0:00:49             0.9036    0.9632\n",
      "   10   RobustScaler ExtremeRandomTrees                0:00:19             0.9606    0.9632\n",
      "   11   SparseNormalizer XGBoostClassifier             0:00:23             0.9356    0.9632\n",
      "   12   MinMaxScaler ExtremeRandomTrees                0:00:38             0.9556    0.9632\n",
      "   13   MinMaxScaler ExtremeRandomTrees                0:00:24             0.9617    0.9632\n",
      "   14   SparseNormalizer LightGBM                      0:00:16             0.9684    0.9684\n",
      "   15   MaxAbsScaler ExtremeRandomTrees                0:00:27             0.9616    0.9684\n",
      "   16   StandardScalerWrapper XGBoostClassifier        0:00:39             0.9573    0.9684\n",
      "    7   MinMaxScaler RandomForest                      0:02:43             0.9612    0.9684\n",
      "    8   StandardScalerWrapper LogisticRegression       0:00:19             0.9473    0.9684\n",
      "    9   StandardScalerWrapper XGBoostClassifier        0:00:25             0.9541    0.9684\n",
      "   17   StandardScalerWrapper RandomForest             0:03:48             0.9579    0.9684\n",
      "   18   MaxAbsScaler LightGBM                          0:00:19             0.9712    0.9712\n",
      "   20   StandardScalerWrapper ExtremeRandomTrees       0:00:04             0.9643    0.9712\n",
      "   19   MaxAbsScaler LogisticRegression                0:00:21             0.9555    0.9712\n",
      "   21   StandardScalerWrapper XGBoostClassifier        0:00:04             0.9386    0.9712\n",
      "   22   MaxAbsScaler LogisticRegression                0:00:04             0.9468    0.9712\n",
      "   24   TruncatedSVDWrapper LightGBM                   0:00:04             0.9581    0.9712\n",
      "   23   StandardScalerWrapper XGBoostClassifier        0:00:04             0.9386    0.9712\n",
      "   25   StandardScalerWrapper ExtremeRandomTrees       0:00:57             0.9627    0.9712\n",
      "   27   StandardScalerWrapper XGBoostClassifier        0:00:06             0.9634    0.9712\n",
      "   29   MinMaxScaler LogisticRegression                0:00:04             0.9621    0.9712\n",
      "   30   StandardScalerWrapper LightGBM                 0:00:04             0.9739    0.9739\n",
      "   31   StandardScalerWrapper LightGBM                 0:00:04             0.9647    0.9739\n",
      "   28   StandardScalerWrapper XGBoostClassifier        0:04:20             0.9615    0.9739\n",
      "   32   StandardScalerWrapper LogisticRegression       0:00:04             0.9496    0.9739\n",
      "   33   MinMaxScaler LightGBM                          0:00:04             0.9527    0.9739\n",
      "   35   StandardScalerWrapper LightGBM                 0:00:04             0.9497    0.9739\n",
      "   34   StandardScalerWrapper GradientBoosting         0:00:04             0.9546    0.9739\n",
      "   36   MaxAbsScaler LightGBM                          0:00:04             0.9630    0.9739\n",
      "   37   StandardScalerWrapper ExtremeRandomTrees       0:00:04             0.9676    0.9739\n",
      "   39   StandardScalerWrapper LightGBM                 0:00:04             0.9622    0.9739\n",
      "   38   StandardScalerWrapper RandomForest             0:00:26             0.9587    0.9739\n",
      "   40   PCA LightGBM                                   0:00:04             0.7215    0.9739\n",
      "   41   StandardScalerWrapper XGBoostClassifier        0:01:05                nan    0.9739\n",
      "ERROR: {\n",
      "    \"additional_properties\": {},\n",
      "    \"error\": {\n",
      "        \"additional_properties\": {\n",
      "            \"debugInfo\": null\n",
      "        },\n",
      "        \"code\": \"UserError\",\n",
      "        \"severity\": null,\n",
      "        \"message\": \"Experiment timeout reached, please consider increasing your experiment timeout.\",\n",
      "        \"message_format\": \"Experiment timeout reached, please consider increasing your experiment timeout.\",\n",
      "        \"message_parameters\": {},\n",
      "        \"reference_code\": null,\n",
      "        \"details_uri\": null,\n",
      "        \"target\": null,\n",
      "        \"details\": [],\n",
      "        \"inner_error\": {\n",
      "            \"additional_properties\": {},\n",
      "            \"code\": \"ResourceExhausted\",\n",
      "            \"inner_error\": {\n",
      "                \"additional_properties\": {},\n",
      "                \"code\": \"Timeout\",\n",
      "                \"inner_error\": {\n",
      "                    \"additional_properties\": {},\n",
      "                    \"code\": \"ExperimentTimeoutForIterations\",\n",
      "                    \"inner_error\": null\n",
      "                }\n",
      "            }\n",
      "        },\n",
      "        \"additional_info\": null\n",
      "    },\n",
      "    \"correlation\": null,\n",
      "    \"environment\": null,\n",
      "    \"location\": null,\n",
      "    \"time\": {},\n",
      "    \"component_name\": null\n",
      "}\n",
      "   42   StandardScalerWrapper GradientBoosting         0:00:04             0.9687    0.9739\n",
      "   43                                                  0:00:00                nan    0.9739\n",
      "ERROR: {\n",
      "    \"additional_properties\": {},\n",
      "    \"error\": {\n",
      "        \"additional_properties\": {\n",
      "            \"debugInfo\": null\n",
      "        },\n",
      "        \"code\": \"UserError\",\n",
      "        \"severity\": null,\n",
      "        \"message\": \"Experiment timeout reached, please consider increasing your experiment timeout.\",\n",
      "        \"message_format\": \"Experiment timeout reached, please consider increasing your experiment timeout.\",\n",
      "        \"message_parameters\": {},\n",
      "        \"reference_code\": null,\n",
      "        \"details_uri\": null,\n",
      "        \"target\": null,\n",
      "        \"details\": [],\n",
      "        \"inner_error\": {\n",
      "            \"additional_properties\": {},\n",
      "            \"code\": \"ResourceExhausted\",\n",
      "            \"inner_error\": {\n",
      "                \"additional_properties\": {},\n",
      "                \"code\": \"Timeout\",\n",
      "                \"inner_error\": {\n",
      "                    \"additional_properties\": {},\n",
      "                    \"code\": \"ExperimentTimeoutForIterations\",\n",
      "                    \"inner_error\": null\n",
      "                }\n",
      "            }\n",
      "        },\n",
      "        \"additional_info\": null\n",
      "    },\n",
      "    \"correlation\": null,\n",
      "    \"environment\": null,\n",
      "    \"location\": null,\n",
      "    \"time\": {},\n",
      "    \"component_name\": null\n",
      "}\n",
      "   26   StandardScalerWrapper GradientBoosting         0:15:20                nan    0.9739\n",
      "ERROR: {\n",
      "    \"additional_properties\": {},\n",
      "    \"error\": {\n",
      "        \"additional_properties\": {\n",
      "            \"debugInfo\": null\n",
      "        },\n",
      "        \"code\": \"UserError\",\n",
      "        \"severity\": null,\n",
      "        \"message\": \"Experiment timeout reached, please consider increasing your experiment timeout.\",\n",
      "        \"message_format\": \"Experiment timeout reached, please consider increasing your experiment timeout.\",\n",
      "        \"message_parameters\": {},\n",
      "        \"reference_code\": null,\n",
      "        \"details_uri\": null,\n",
      "        \"target\": null,\n",
      "        \"details\": [],\n",
      "        \"inner_error\": {\n",
      "            \"additional_properties\": {},\n",
      "            \"code\": \"ResourceExhausted\",\n",
      "            \"inner_error\": {\n",
      "                \"additional_properties\": {},\n",
      "                \"code\": \"Timeout\",\n",
      "                \"inner_error\": {\n",
      "                    \"additional_properties\": {},\n",
      "                    \"code\": \"ExperimentTimeoutForIterations\",\n",
      "                    \"inner_error\": null\n",
      "                }\n",
      "            }\n",
      "        },\n",
      "        \"additional_info\": null\n",
      "    },\n",
      "    \"correlation\": null,\n",
      "    \"environment\": null,\n",
      "    \"location\": null,\n",
      "    \"time\": {},\n",
      "    \"component_name\": null\n",
      "}\n",
      "   44    VotingEnsemble                                0:00:04             0.9725    0.9739\n",
      "   45    StackEnsemble                                 0:01:32             0.9737    0.9739\n"
     ]
    },
    {
     "data": {
      "text/plain": [
       "{'runId': 'AutoML_491025b3-1f9f-436c-8c4d-9b2ce65b7b36',\n",
       " 'target': 'automl-cls',\n",
       " 'status': 'Completed',\n",
       " 'startTimeUtc': '2022-04-26T22:32:47.582371Z',\n",
       " 'endTimeUtc': '2022-04-26T23:13:00.638221Z',\n",
       " 'services': {},\n",
       " 'warnings': [{'source': 'JasmineService',\n",
       "   'message': 'Experiment timeout reached, hence experiment stopped. Current experiment timeout: 0 hour(s) 30 minute(s)'}],\n",
       " 'properties': {'num_iterations': '1000',\n",
       "  'training_type': 'TrainFull',\n",
       "  'acquisition_function': 'EI',\n",
       "  'primary_metric': 'AUC_weighted',\n",
       "  'train_split': '0',\n",
       "  'acquisition_parameter': '0',\n",
       "  'num_cross_validation': None,\n",
       "  'target': 'automl-cls',\n",
       "  'AMLSettingsJsonString': '{\"path\":null,\"name\":\"creditcard-experiment\",\"subscription_id\":\"5e4d75b9-5b13-49fb-8306-ae971a3c14b1\",\"resource_group\":\"mlops-resource\",\"workspace_name\":\"mlops-demo\",\"region\":\"eastasia\",\"compute_target\":\"automl-cls\",\"spark_service\":null,\"azure_service\":\"remote\",\"many_models\":false,\"pipeline_fetch_max_batch_size\":1,\"enable_batch_run\":true,\"enable_run_restructure\":false,\"start_auxiliary_runs_before_parent_complete\":false,\"enable_code_generation\":false,\"iterations\":1000,\"primary_metric\":\"AUC_weighted\",\"task_type\":\"classification\",\"positive_label\":null,\"data_script\":null,\"test_size\":0.0,\"test_include_predictions_only\":false,\"validation_size\":0.0,\"n_cross_validations\":null,\"y_min\":null,\"y_max\":null,\"num_classes\":null,\"featurization\":\"auto\",\"_ignore_package_version_incompatibilities\":false,\"is_timeseries\":false,\"max_cores_per_iteration\":1,\"max_concurrent_iterations\":4,\"iteration_timeout_minutes\":null,\"mem_in_mb\":null,\"enforce_time_on_windows\":false,\"experiment_timeout_minutes\":30,\"experiment_exit_score\":0.98,\"partition_column_names\":null,\"whitelist_models\":null,\"blacklist_algos\":[\"TensorFlowLinearClassifier\",\"TensorFlowDNN\"],\"supported_models\":[\"MultinomialNaiveBayes\",\"DecisionTree\",\"BernoulliNaiveBayes\",\"LinearSVM\",\"LightGBM\",\"XGBoostClassifier\",\"GradientBoosting\",\"SGD\",\"AveragedPerceptronClassifier\",\"TensorFlowDNN\",\"TensorFlowLinearClassifier\",\"KNN\",\"TabnetClassifier\",\"LogisticRegression\",\"SVM\",\"ExtremeRandomTrees\",\"RandomForest\"],\"private_models\":[],\"auto_blacklist\":true,\"blacklist_samples_reached\":false,\"exclude_nan_labels\":true,\"verbosity\":20,\"_debug_log\":\"azureml_automl.log\",\"show_warnings\":false,\"model_explainability\":true,\"service_url\":null,\"sdk_url\":null,\"sdk_packages\":null,\"enable_onnx_compatible_models\":false,\"enable_split_onnx_featurizer_estimator_models\":false,\"vm_type\":\"STANDARD_D2_V3\",\"telemetry_verbosity\":20,\"send_telemetry\":true,\"enable_dnn\":false,\"scenario\":\"SDK-1.13.0\",\"environment_label\":null,\"save_mlflow\":false,\"enable_categorical_indicators\":false,\"force_text_dnn\":false,\"enable_feature_sweeping\":true,\"enable_early_stopping\":true,\"early_stopping_n_iters\":10,\"arguments\":null,\"dataset_id\":\"67570178-bf15-46d2-b97e-884a07cb1970\",\"hyperdrive_config\":null,\"validation_dataset_id\":null,\"run_source\":null,\"metrics\":null,\"enable_metric_confidence\":false,\"enable_ensembling\":true,\"enable_stack_ensembling\":true,\"ensemble_iterations\":15,\"enable_tf\":false,\"enable_subsampling\":null,\"subsample_seed\":null,\"enable_nimbusml\":false,\"enable_streaming\":false,\"force_streaming\":false,\"track_child_runs\":true,\"allowed_private_models\":[],\"label_column_name\":\"Class\",\"weight_column_name\":null,\"cv_split_column_names\":null,\"enable_local_managed\":false,\"_local_managed_run_id\":null,\"cost_mode\":1,\"lag_length\":0,\"metric_operation\":\"maximize\",\"preprocess\":true}',\n",
       "  'DataPrepJsonString': '{\\\\\"training_data\\\\\": {\\\\\"datasetId\\\\\": \\\\\"67570178-bf15-46d2-b97e-884a07cb1970\\\\\"}, \\\\\"datasets\\\\\": 0}',\n",
       "  'EnableSubsampling': None,\n",
       "  'runTemplate': 'AutoML',\n",
       "  'azureml.runsource': 'automl',\n",
       "  'display_task_type': 'classification',\n",
       "  'dependencies_versions': '{\"azureml-widgets\": \"1.40.0\", \"azureml-training-tabular\": \"1.40.0\", \"azureml-train\": \"1.40.0\", \"azureml-train-restclients-hyperdrive\": \"1.40.0\", \"azureml-train-core\": \"1.40.0\", \"azureml-train-automl\": \"1.40.0\", \"azureml-train-automl-runtime\": \"1.40.0.post1\", \"azureml-train-automl-client\": \"1.40.0\", \"azureml-tensorboard\": \"1.40.0\", \"azureml-telemetry\": \"1.40.0\", \"azureml-sdk\": \"1.40.0\", \"azureml-samples\": \"0+unknown\", \"azureml-responsibleai\": \"1.40.0\", \"azureml-pipeline\": \"1.40.0\", \"azureml-pipeline-steps\": \"1.40.0\", \"azureml-pipeline-core\": \"1.40.0\", \"azureml-opendatasets\": \"1.40.0\", \"azureml-mlflow\": \"1.40.0\", \"azureml-interpret\": \"1.40.0\", \"azureml-inference-server-http\": \"0.4.11\", \"azureml-explain-model\": \"1.40.0\", \"azureml-defaults\": \"1.40.0\", \"azureml-dataset-runtime\": \"1.40.0\", \"azureml-dataprep\": \"3.0.0\", \"azureml-dataprep-rslex\": \"2.4.0\", \"azureml-dataprep-native\": \"38.0.0\", \"azureml-datadrift\": \"1.40.0\", \"azureml-core\": \"1.40.0\", \"azureml-contrib-services\": \"1.40.0\", \"azureml-contrib-server\": \"1.40.0\", \"azureml-contrib-reinforcementlearning\": \"1.40.0\", \"azureml-contrib-pipeline-steps\": \"1.40.0\", \"azureml-contrib-notebook\": \"1.40.0\", \"azureml-contrib-fairness\": \"1.40.0\", \"azureml-contrib-dataset\": \"1.40.0\", \"azureml-contrib-automl-pipeline-steps\": \"1.40.0\", \"azureml-cli-common\": \"1.40.0\", \"azureml-automl-runtime\": \"1.40.0\", \"azureml-automl-dnn-nlp\": \"1.40.0\", \"azureml-automl-core\": \"1.40.0\", \"azureml-accel-models\": \"1.40.0\"}',\n",
       "  '_aml_system_scenario_identification': 'Remote.Parent',\n",
       "  'ClientType': 'SDK',\n",
       "  'environment_cpu_name': 'AzureML-AutoML',\n",
       "  'environment_cpu_label': 'prod',\n",
       "  'environment_gpu_name': 'AzureML-AutoML-GPU',\n",
       "  'environment_gpu_label': 'prod',\n",
       "  'root_attribution': 'automl',\n",
       "  'attribution': 'AutoML',\n",
       "  'Orchestrator': 'AutoML',\n",
       "  'CancelUri': 'https://eastasia.api.azureml.ms/jasmine/v1.0/subscriptions/5e4d75b9-5b13-49fb-8306-ae971a3c14b1/resourceGroups/mlops-resource/providers/Microsoft.MachineLearningServices/workspaces/mlops-demo/experimentids/1371f6af-26e4-4439-a0d3-001800590461/cancel/AutoML_491025b3-1f9f-436c-8c4d-9b2ce65b7b36',\n",
       "  'ClientSdkVersion': '1.40.0.post1',\n",
       "  'snapshotId': '00000000-0000-0000-0000-000000000000',\n",
       "  'SetupRunId': 'AutoML_491025b3-1f9f-436c-8c4d-9b2ce65b7b36_setup',\n",
       "  'SetupRunContainerId': 'dcid.AutoML_491025b3-1f9f-436c-8c4d-9b2ce65b7b36_setup',\n",
       "  'FeaturizationRunJsonPath': 'featurizer_container.json',\n",
       "  'FeaturizationRunId': 'AutoML_491025b3-1f9f-436c-8c4d-9b2ce65b7b36_featurize',\n",
       "  'ProblemInfoJsonString': '{\"dataset_num_categorical\": 0, \"is_sparse\": false, \"subsampling\": false, \"has_extra_col\": true, \"dataset_classes\": 2, \"dataset_features\": 30, \"dataset_samples\": 256326, \"single_frequency_class_detected\": false}',\n",
       "  'ModelExplainRunId': 'AutoML_491025b3-1f9f-436c-8c4d-9b2ce65b7b36_ModelExplain'},\n",
       " 'inputDatasets': [{'dataset': {'id': '67570178-bf15-46d2-b97e-884a07cb1970'}, 'consumptionDetails': {'type': 'RunInput', 'inputName': 'training_data', 'mechanism': 'Direct'}}],\n",
       " 'outputDatasets': [],\n",
       " 'logFiles': {},\n",
       " 'submittedBy': 'Satria Adhipurusa'}"
      ]
     },
     "execution_count": 7,
     "metadata": {},
     "output_type": "execute_result"
    }
   ],
   "source": [
    "remote_run.wait_for_completion(show_output=True)"
   ]
  },
  {
   "cell_type": "markdown",
   "metadata": {},
   "source": [
    "## Best Model"
   ]
  },
  {
   "cell_type": "code",
   "execution_count": 8,
   "metadata": {},
   "outputs": [],
   "source": [
    "!mkdir outputs"
   ]
  },
  {
   "cell_type": "code",
   "execution_count": 19,
   "metadata": {
    "collapsed": false,
    "gather": {
     "logged": 1598431425670
    },
    "jupyter": {
     "outputs_hidden": false,
     "source_hidden": false
    },
    "nteract": {
     "transient": {
      "deleting": false
     }
    }
   },
   "outputs": [
    {
     "name": "stdout",
     "output_type": "stream",
     "text": [
      "Best AutoML Run:\n",
      "\n",
      "Run(Experiment: creditcard-experiment,\n",
      "Id: AutoML_491025b3-1f9f-436c-8c4d-9b2ce65b7b36_30,\n",
      "Type: azureml.scriptrun,\n",
      "Status: Completed)\n",
      "==============\n",
      "Best AutoML Model:\n",
      "\n",
      "Pipeline(memory=None,\n",
      "         steps=[('datatransformer',\n",
      "                 DataTransformer(enable_dnn=False, enable_feature_sweeping=True, feature_sweeping_config={}, feature_sweeping_timeout=86400, featurization_config=None, force_text_dnn=False, is_cross_validation=False, is_onnx_compatible=False, observer=None, task='classification', working_dir='/mnt/batch/tasks/shared/LS_root/moun...\n",
      "                 LightGBMClassifier(boosting_type='gbdt', colsample_bytree=0.1, learning_rate=0.07894947368421053, max_bin=260, max_depth=5, min_child_weight=6, min_data_in_leaf=0.003457931034482759, min_split_gain=0.21052631578947367, n_estimators=200, n_jobs=1, num_leaves=131, problem_info=ProblemInfo(gpu_training_param_dict={'processing_unit_type': 'cpu'}), random_state=None, reg_alpha=0.7894736842105263, reg_lambda=0.3684210526315789, subsample=0.3468421052631579))],\n",
      "         verbose=False)\n"
     ]
    }
   ],
   "source": [
    "best_automl_run, best_automl_model = remote_run.get_output()\n",
    "print(f\"Best AutoML Run:\\n\\n{best_automl_run}\")\n",
    "print(\"==============\")\n",
    "print(f\"Best AutoML Model:\\n\\n{best_automl_model}\")"
   ]
  },
  {
   "cell_type": "code",
   "execution_count": 16,
   "metadata": {
    "collapsed": false,
    "gather": {
     "logged": 1598431426111
    },
    "jupyter": {
     "outputs_hidden": false,
     "source_hidden": false
    },
    "nteract": {
     "transient": {
      "deleting": false
     }
    }
   },
   "outputs": [
    {
     "name": "stdout",
     "output_type": "stream",
     "text": [
      "Saving the best Model.....\n"
     ]
    }
   ],
   "source": [
    "#TODO: Save the best model\n",
    "print(\"Saving the best Model.....\")\n",
    "model_path = \"outputs/model.pkl\"\n",
    "pickle.dump(best_automl_model, open(model_path, \"wb\"))"
   ]
  },
  {
   "cell_type": "markdown",
   "metadata": {},
   "source": [
    "## Model Deployment\n",
    "\n",
    "Remember you have to deploy only one of the two models you trained but you still need to register both the models. Perform the steps in the rest of this notebook only if you wish to deploy this model.\n",
    "\n",
    "TODO: In the cell below, register the model, create an inference config and deploy the model as a web service."
   ]
  },
  {
   "cell_type": "code",
   "execution_count": 29,
   "metadata": {
    "collapsed": false,
    "gather": {
     "logged": 1598431435189
    },
    "jupyter": {
     "outputs_hidden": false,
     "source_hidden": false
    },
    "nteract": {
     "transient": {
      "deleting": false
     }
    }
   },
   "outputs": [
    {
     "data": {
      "text/plain": [
       "Model(workspace=Workspace.create(name='mlops-demo', subscription_id='5e4d75b9-5b13-49fb-8306-ae971a3c14b1', resource_group='mlops-resource'), name=credit-fraud-model, id=credit-fraud-model:1, version=1, tags={}, properties={})"
      ]
     },
     "execution_count": 29,
     "metadata": {},
     "output_type": "execute_result"
    }
   ],
   "source": [
    "# Register the model\n",
    "best_automl_run.register_model(model_name=\"credit-fraud-model\", model_path=\"outputs/model.pkl\")"
   ]
  },
  {
   "cell_type": "markdown",
   "metadata": {
    "gather": {
     "logged": 1598431657736
    },
    "jupyter": {
     "outputs_hidden": false,
     "source_hidden": false
    },
    "nteract": {
     "transient": {
      "deleting": false
     }
    }
   },
   "source": [
    "TODO: In the cell below, send a request to the web service you deployed to test it."
   ]
  },
  {
   "cell_type": "code",
   "execution_count": 44,
   "metadata": {
    "collapsed": false,
    "gather": {
     "logged": 1598432707604
    },
    "jupyter": {
     "outputs_hidden": false
    },
    "nteract": {
     "transient": {
      "deleting": false
     }
    }
   },
   "outputs": [
    {
     "name": "stdout",
     "output_type": "stream",
     "text": [
      "Tips: You can try get_logs(): https://aka.ms/debugimage#dockerlog or local deployment: https://aka.ms/debugimage#debug-locally to debug if deployment takes longer than 10 minutes.\n",
      "Running\n",
      "2022-04-27 15:48:02+00:00 Creating Container Registry if not exists.\n",
      "2022-04-27 15:48:05+00:00 Building image..\n",
      "2022-04-27 16:00:06+00:00 Generating deployment configuration..\n",
      "2022-04-27 16:00:09+00:00 Submitting deployment to compute..\n",
      "2022-04-27 16:00:17+00:00 Checking the status of deployment credit-fraud-model..\n",
      "2022-04-27 16:04:07+00:00 Checking the status of inference endpoint credit-fraud-model.\n",
      "Succeeded\n",
      "ACI service creation operation finished, operation \"Succeeded\"\n"
     ]
    }
   ],
   "source": [
    "best_automl_run.download_file(\"outputs/conda_env_v_1_0_0.yml\", \"conda.yaml\")\n",
    "env = Environment.from_conda_specification(name=\"env\", file_path=\"conda.yaml\")\n",
    "\n",
    "best_automl_run.download_file(\"outputs/scoring_file_v_2_0_0.py\", \"score.py\")\n",
    "inference_config = InferenceConfig(entry_script=\"score.py\", environment=env)\n",
    "\n",
    "deployment_config = AciWebservice.deploy_configuration(cpu_cores=1, memory_gb=1, auth_enabled=True)\n",
    "\n",
    "model = Model(ws, \"credit-fraud-model\", version=1, run_id=best_automl_run.id)\n",
    "webservice = Model.deploy(ws, \"credit-fraud-model\",\n",
    "                          models=[model],\n",
    "                          inference_config=inference_config,\n",
    "                          deployment_config=deployment_config,\n",
    "                          overwrite=True)\n",
    "webservice.wait_for_deployment(show_output=True)"
   ]
  },
  {
   "cell_type": "code",
   "execution_count": 45,
   "metadata": {},
   "outputs": [
    {
     "name": "stdout",
     "output_type": "stream",
     "text": [
      "Scoring URI:\n",
      "\n",
      "http://8db1a543-7e7d-41eb-bbc4-9fa413db3f24.eastasia.azurecontainer.io/score\n",
      "==============\n",
      "Primary Key:\n",
      "\n",
      "lmMdnCf1C0VIkfhyPSouD6qqJJvITbh5\n"
     ]
    }
   ],
   "source": [
    "print(f\"Scoring URI:\\n\\n{webservice.scoring_uri}\")\n",
    "print(\"==============\")\n",
    "primary_key, secondary_key = webservice.get_keys()\n",
    "print(f\"Primary Key:\\n\\n{primary_key}\")"
   ]
  },
  {
   "cell_type": "markdown",
   "metadata": {
    "gather": {
     "logged": 1598432765711
    },
    "jupyter": {
     "outputs_hidden": false,
     "source_hidden": false
    },
    "nteract": {
     "transient": {
      "deleting": false
     }
    }
   },
   "source": [
    "TODO: In the cell below, print the logs of the web service and delete the service"
   ]
  },
  {
   "cell_type": "code",
   "execution_count": 46,
   "metadata": {},
   "outputs": [],
   "source": [
    "df = dataset.to_pandas_dataframe()\n",
    "sample = df.drop(columns=\"Class\").sample(2)"
   ]
  },
  {
   "cell_type": "code",
   "execution_count": 53,
   "metadata": {},
   "outputs": [
    {
     "name": "stdout",
     "output_type": "stream",
     "text": [
      "{\"Results\": [0, 0]}\n"
     ]
    }
   ],
   "source": [
    "sample_json = sample.to_dict(orient=\"record\")\n",
    "data = {\n",
    "    \"Inputs\": {\n",
    "        \"data\": sample_json\n",
    "    },\n",
    "    \"GlobalParameters\": {\n",
    "        \"method\": \"predict\"\n",
    "    }\n",
    "}\n",
    "headers = {\n",
    "    \"Content-Type\": \"application/json\",\n",
    "    \"Authorization\": f\"Bearer {primary_key}\"\n",
    "}\n",
    "response = requests.post(webservice.scoring_uri, json=data, headers=headers)\n",
    "print(response.text)"
   ]
  },
  {
   "cell_type": "code",
   "execution_count": 55,
   "metadata": {
    "collapsed": false,
    "jupyter": {
     "outputs_hidden": false
    },
    "nteract": {
     "transient": {
      "deleting": false
     }
    }
   },
   "outputs": [
    {
     "name": "stdout",
     "output_type": "stream",
     "text": [
      "2022-04-27T16:03:46,252294700+00:00 - iot-server/run \n",
      "2022-04-27T16:03:46,261633800+00:00 - rsyslog/run \n",
      "2022-04-27T16:03:46,274171700+00:00 - gunicorn/run \n",
      "Dynamic Python package installation is disabled.\n",
      "Starting HTTP server\n",
      "2022-04-27T16:03:46,290205200+00:00 - nginx/run \n",
      "EdgeHubConnectionString and IOTEDGE_IOTHUBHOSTNAME are not set. Exiting...\n",
      "2022-04-27T16:03:46,705018400+00:00 - iot-server/finish 1 0\n",
      "2022-04-27T16:03:46,708143100+00:00 - Exit code 1 is normal. Not restarting iot-server.\n",
      "Starting gunicorn 20.1.0\n",
      "Listening at: http://127.0.0.1:31311 (74)\n",
      "Using worker: sync\n",
      "worker timeout is set to 300\n",
      "Booting worker with pid: 99\n",
      "SPARK_HOME not set. Skipping PySpark Initialization.\n",
      "Initializing logger\n",
      "2022-04-27 16:03:48,806 | root | INFO | Starting up app insights client\n",
      "logging socket was found. logging is available.\n",
      "logging socket was found. logging is available.\n",
      "2022-04-27 16:03:48,807 | root | INFO | Starting up request id generator\n",
      "2022-04-27 16:03:48,807 | root | INFO | Starting up app insight hooks\n",
      "2022-04-27 16:03:48,807 | root | INFO | Invoking user's init function\n",
      "2022-04-27 16:03:56,152 | root | INFO | Users's init has completed successfully\n",
      "2022-04-27 16:03:56,160 | root | INFO | Skipping middleware: dbg_model_info as it's not enabled.\n",
      "2022-04-27 16:03:56,160 | root | INFO | Skipping middleware: dbg_resource_usage as it's not enabled.\n",
      "Generating swagger file: /tmp/tmpjf25batw\n",
      "2022-04-27 16:03:56,177 | root | INFO | Scoring timeout is found from os.environ: 60000 ms\n",
      "2022-04-27 16:04:07,178 | root | INFO | 200\n",
      "127.0.0.1 - - [27/Apr/2022:16:04:07 +0000] \"GET /swagger.json HTTP/1.0\" 200 4269 \"-\" \"Go-http-client/1.1\"\n",
      "2022-04-27 16:04:12,118 | root | INFO | 200\n",
      "127.0.0.1 - - [27/Apr/2022:16:04:12 +0000] \"GET /swagger.json HTTP/1.0\" 200 4269 \"-\" \"Go-http-client/1.1\"\n",
      "2022-04-27 16:04:44,732 | root | INFO | 200\n",
      "127.0.0.1 - - [27/Apr/2022:16:04:44 +0000] \"GET /swagger.json HTTP/1.0\" 200 4269 \"-\" \"Go-http-client/1.1\"\n",
      "2022-04-27 16:11:26,129 | root | INFO | Validation Request Content-Type\n",
      "2022-04-27 16:11:26,131 | root | INFO | Scoring Timer is set to 60.0 seconds\n",
      "2022-04-27 16:11:26,353 | root | INFO | 200\n",
      "127.0.0.1 - - [27/Apr/2022:16:11:26 +0000] \"POST /score HTTP/1.0\" 200 19 \"-\" \"python-requests/2.27.1\"\n",
      "2022-04-27 16:12:27,010 | root | INFO | 200\n",
      "127.0.0.1 - - [27/Apr/2022:16:12:27 +0000] \"GET /swagger.json HTTP/1.0\" 200 4269 \"-\" \"Go-http-client/1.1\"\n",
      "2022-04-27 16:12:43,763 | root | INFO | 200\n",
      "127.0.0.1 - - [27/Apr/2022:16:12:43 +0000] \"GET /swagger.json HTTP/1.0\" 200 4269 \"-\" \"Go-http-client/1.1\"\n",
      "\n"
     ]
    }
   ],
   "source": [
    "webservice.update(enable_app_insights=True)  # enable app insights\n",
    "logs = webservice.get_logs()\n",
    "for line in logs.split('\\n'):\n",
    "    print(line)"
   ]
  },
  {
   "cell_type": "markdown",
   "metadata": {},
   "source": [
    "**Submission Checklist**\n",
    "- I have registered the model.\n",
    "- I have deployed the model with the best accuracy as a webservice.\n",
    "- I have tested the webservice by sending a request to the model endpoint.\n",
    "- I have deleted the webservice and shutdown all the computes that I have used.\n",
    "- I have taken a screenshot showing the model endpoint as active.\n",
    "- The project includes a file containing the environment details.\n"
   ]
  }
 ],
 "metadata": {
  "kernel_info": {
   "name": "python3-azureml"
  },
  "kernelspec": {
   "display_name": "Python 3.8 - AzureML",
   "language": "python",
   "name": "python38-azureml"
  },
  "language_info": {
   "codemirror_mode": {
    "name": "ipython",
    "version": 3
   },
   "file_extension": ".py",
   "mimetype": "text/x-python",
   "name": "python",
   "nbconvert_exporter": "python",
   "pygments_lexer": "ipython3",
   "version": "3.8.5"
  },
  "nteract": {
   "version": "nteract-front-end@1.0.0"
  }
 },
 "nbformat": 4,
 "nbformat_minor": 4
}
